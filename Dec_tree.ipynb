{
 "cells": [
  {
   "cell_type": "code",
   "execution_count": 73,
   "metadata": {},
   "outputs": [],
   "source": [
    "import pandas as pd\n",
    "import numpy as np"
   ]
  },
  {
   "cell_type": "code",
   "execution_count": 74,
   "metadata": {},
   "outputs": [
    {
     "name": "stdout",
     "output_type": "stream",
     "text": [
      "     battery_power  blue  clock_speed  dual_sim  fc  four_g  int_memory  \\\n",
      "0              842     0          2.2         0   1       0           7   \n",
      "1             1021     1          0.5         1   0       1          53   \n",
      "2              563     1          0.5         1   2       1          41   \n",
      "3              615     1          2.5         0   0       0          10   \n",
      "4             1821     1          1.2         0  13       1          44   \n",
      "..             ...   ...          ...       ...  ..     ...         ...   \n",
      "995           1700     1          1.9         0   0       1          54   \n",
      "996            609     0          1.8         1   0       0          13   \n",
      "997           1185     0          1.4         0   1       1           8   \n",
      "998           1533     1          0.5         1   0       0          50   \n",
      "999           1270     1          0.5         0   4       1          35   \n",
      "\n",
      "     m_dep  mobile_wt  n_cores  ...  px_width   ram  sc_h  sc_w  talk_time  \\\n",
      "0      0.6        188        2  ...       756  2549     9     7         19   \n",
      "1      0.7        136        3  ...      1988  2631    17     3          7   \n",
      "2      0.9        145        5  ...      1716  2603    11     2          9   \n",
      "3      0.8        131        6  ...      1786  2769    16     8         11   \n",
      "4      0.6        141        2  ...      1212  1411     8     2         15   \n",
      "..     ...        ...      ...  ...       ...   ...   ...   ...        ...   \n",
      "995    0.5        170        7  ...       913  2121    14     8         15   \n",
      "996    0.9        186        4  ...      1632  1933     8     1         19   \n",
      "997    0.5         80        1  ...       825  1223     5     0         14   \n",
      "998    0.4        171        2  ...       832  2509    15    11          6   \n",
      "999    0.1        140        6  ...       608  2828     9     2          3   \n",
      "\n",
      "     three_g  touch_screen  wifi  price_range      id  \n",
      "0          0             0     1          1.0     NaN  \n",
      "1          1             1     0          2.0     NaN  \n",
      "2          1             1     0          2.0     NaN  \n",
      "3          1             0     0          2.0     NaN  \n",
      "4          1             1     0          1.0     NaN  \n",
      "..       ...           ...   ...          ...     ...  \n",
      "995        1             1     0          NaN   996.0  \n",
      "996        0             1     1          NaN   997.0  \n",
      "997        1             0     0          NaN   998.0  \n",
      "998        0             1     0          NaN   999.0  \n",
      "999        1             0     1          NaN  1000.0  \n",
      "\n",
      "[3000 rows x 22 columns]\n"
     ]
    }
   ],
   "source": [
    "test_case = pd.read_csv(\"test.csv\")\n",
    "train_case = pd.read_csv(\"train.csv\")\n",
    "frame  = [train_case , test_case]\n",
    "dataset = pd.concat(frame)\n",
    "print(dataset)"
   ]
  },
  {
   "cell_type": "code",
   "execution_count": 75,
   "metadata": {},
   "outputs": [],
   "source": [
    "feature_columns = ['battery_power', 'ram', 'px_width', 'int_memory', 'three_g']\n",
    "target_column = 'price_range'\n",
    "dataset['battery_power'] = dataset['battery_power'].replace(np.nan, dataset['battery_power'].mean())\n",
    "dataset['ram'] = dataset['ram'].replace(np.nan, dataset['ram'].mean())\n",
    "dataset['px_width'] = dataset['px_width'].replace(np.nan, dataset['px_width'].mean())\n",
    "dataset['int_memory'] = dataset['int_memory'].replace(np.nan, dataset['int_memory'].mean())\n",
    "dataset['three_g'] = dataset['three_g'].replace(np.nan, dataset['three_g'].mean())\n",
    "dataset['blue'] = dataset['blue'].replace(np.nan, dataset['blue'].mean())\n",
    "dataset['clock_speed'] = dataset['clock_speed'].replace(np.nan, dataset['clock_speed'].mean())\n",
    "dataset['dual_sim'] = dataset['dual_sim'].replace(np.nan, dataset['dual_sim'].mean())\n",
    "dataset['fc'] = dataset['fc'].replace(np.nan, dataset['fc'].mean())\n",
    "dataset['four_g'] = dataset['four_g'].replace(np.nan, dataset['four_g'].mean())\n",
    "dataset['m_dep'] = dataset['m_dep'].replace(np.nan, dataset['m_dep'].mean())\n",
    "dataset['mobile_wt'] = dataset['mobile_wt'].replace(np.nan, dataset['mobile_wt'].mean())\n",
    "dataset['n_cores'] = dataset['n_cores'].replace(np.nan, dataset['n_cores'].mean())\n",
    "dataset['pc'] = dataset['pc'].replace(np.nan, dataset['pc'].mean())\n",
    "dataset['px_height'] = dataset['px_height'].replace(np.nan, dataset['px_height'].mean())\n",
    "dataset['sc_h'] = dataset['sc_h'].replace(np.nan, dataset['sc_h'].mean())\n",
    "dataset['sc_w'] = dataset['sc_w'].replace(np.nan, dataset['sc_w'].mean())\n",
    "dataset['talk_time'] = dataset['talk_time'].replace(np.nan, dataset['talk_time'].mean())\n",
    "dataset['touch_screen'] = dataset['touch_screen'].replace(np.nan, dataset['touch_screen'].mean())\n",
    "dataset['wifi'] = dataset['wifi'].replace(np.nan, dataset['wifi'].mean())\n",
    "dataset['price_range'] = dataset['price_range'].replace(np.nan, dataset['price_range'].mean())"
   ]
  },
  {
   "cell_type": "code",
   "execution_count": 76,
   "metadata": {},
   "outputs": [
    {
     "name": "stdout",
     "output_type": "stream",
     "text": [
      "     battery_power  blue  clock_speed  dual_sim  fc  four_g  int_memory  \\\n",
      "0              842     0          2.2         0   1       0           7   \n",
      "1             1021     1          0.5         1   0       1          53   \n",
      "2              563     1          0.5         1   2       1          41   \n",
      "3              615     1          2.5         0   0       0          10   \n",
      "4             1821     1          1.2         0  13       1          44   \n",
      "..             ...   ...          ...       ...  ..     ...         ...   \n",
      "995           1700     1          1.9         0   0       1          54   \n",
      "996            609     0          1.8         1   0       0          13   \n",
      "997           1185     0          1.4         0   1       1           8   \n",
      "998           1533     1          0.5         1   0       0          50   \n",
      "999           1270     1          0.5         0   4       1          35   \n",
      "\n",
      "     m_dep  mobile_wt  n_cores  ...  px_width   ram  sc_h  sc_w  talk_time  \\\n",
      "0      0.6        188        2  ...       756  2549     9     7         19   \n",
      "1      0.7        136        3  ...      1988  2631    17     3          7   \n",
      "2      0.9        145        5  ...      1716  2603    11     2          9   \n",
      "3      0.8        131        6  ...      1786  2769    16     8         11   \n",
      "4      0.6        141        2  ...      1212  1411     8     2         15   \n",
      "..     ...        ...      ...  ...       ...   ...   ...   ...        ...   \n",
      "995    0.5        170        7  ...       913  2121    14     8         15   \n",
      "996    0.9        186        4  ...      1632  1933     8     1         19   \n",
      "997    0.5         80        1  ...       825  1223     5     0         14   \n",
      "998    0.4        171        2  ...       832  2509    15    11          6   \n",
      "999    0.1        140        6  ...       608  2828     9     2          3   \n",
      "\n",
      "     three_g  touch_screen  wifi  price_range      id  \n",
      "0          0             0     1          1.0     NaN  \n",
      "1          1             1     0          2.0     NaN  \n",
      "2          1             1     0          2.0     NaN  \n",
      "3          1             0     0          2.0     NaN  \n",
      "4          1             1     0          1.0     NaN  \n",
      "..       ...           ...   ...          ...     ...  \n",
      "995        1             1     0          1.5   996.0  \n",
      "996        0             1     1          1.5   997.0  \n",
      "997        1             0     0          1.5   998.0  \n",
      "998        0             1     0          1.5   999.0  \n",
      "999        1             0     1          1.5  1000.0  \n",
      "\n",
      "[3000 rows x 22 columns]\n"
     ]
    }
   ],
   "source": [
    "#nilainya hilang\n",
    "dataset.corr()\n",
    "print(dataset)"
   ]
  },
  {
   "cell_type": "code",
   "execution_count": 77,
   "metadata": {},
   "outputs": [
    {
     "name": "stdout",
     "output_type": "stream",
     "text": [
      "['battery_power', 'ram', 'px_width', 'int_memory', 'three_g']\n"
     ]
    }
   ],
   "source": [
    "print(feature_columns)"
   ]
  },
  {
   "cell_type": "code",
   "execution_count": 78,
   "metadata": {},
   "outputs": [],
   "source": [
    "from sklearn.model_selection import train_test_split\n",
    "X = dataset[feature_columns]\n",
    "y = dataset[target_column]\n",
    "X_train , X_test , y_train , y_test = train_test_split(X , y , test_size=0.33)"
   ]
  },
  {
   "cell_type": "code",
   "execution_count": 79,
   "metadata": {},
   "outputs": [
    {
     "ename": "ValueError",
     "evalue": "Unknown label type: continuous. Maybe you are trying to fit a classifier, which expects discrete classes on a regression target with continuous values.",
     "output_type": "error",
     "traceback": [
      "\u001b[1;31m---------------------------------------------------------------------------\u001b[0m",
      "\u001b[1;31mValueError\u001b[0m                                Traceback (most recent call last)",
      "\u001b[1;32mc:\\Users\\Naufal Maulana\\OneDrive\\Documents\\Tugas Kuliah Semester 3\\AI\\Project_Decision_Tree\\DecisionTree-py\\Dec_tree.ipynb Cell 7\u001b[0m line \u001b[0;36m3\n\u001b[0;32m      <a href='vscode-notebook-cell:/c%3A/Users/Naufal%20Maulana/OneDrive/Documents/Tugas%20Kuliah%20Semester%203/AI/Project_Decision_Tree/DecisionTree-py/Dec_tree.ipynb#W3sZmlsZQ%3D%3D?line=0'>1</a>\u001b[0m \u001b[39mfrom\u001b[39;00m \u001b[39msklearn\u001b[39;00m\u001b[39m.\u001b[39;00m\u001b[39mtree\u001b[39;00m \u001b[39mimport\u001b[39;00m DecisionTreeClassifier\n\u001b[0;32m      <a href='vscode-notebook-cell:/c%3A/Users/Naufal%20Maulana/OneDrive/Documents/Tugas%20Kuliah%20Semester%203/AI/Project_Decision_Tree/DecisionTree-py/Dec_tree.ipynb#W3sZmlsZQ%3D%3D?line=1'>2</a>\u001b[0m clf \u001b[39m=\u001b[39m DecisionTreeClassifier()\n\u001b[1;32m----> <a href='vscode-notebook-cell:/c%3A/Users/Naufal%20Maulana/OneDrive/Documents/Tugas%20Kuliah%20Semester%203/AI/Project_Decision_Tree/DecisionTree-py/Dec_tree.ipynb#W3sZmlsZQ%3D%3D?line=2'>3</a>\u001b[0m clf \u001b[39m=\u001b[39m clf\u001b[39m.\u001b[39mfit(X_train , y_train)\n",
      "File \u001b[1;32mc:\\Users\\Naufal Maulana\\anaconda3\\Lib\\site-packages\\sklearn\\base.py:1151\u001b[0m, in \u001b[0;36m_fit_context.<locals>.decorator.<locals>.wrapper\u001b[1;34m(estimator, *args, **kwargs)\u001b[0m\n\u001b[0;32m   1144\u001b[0m     estimator\u001b[39m.\u001b[39m_validate_params()\n\u001b[0;32m   1146\u001b[0m \u001b[39mwith\u001b[39;00m config_context(\n\u001b[0;32m   1147\u001b[0m     skip_parameter_validation\u001b[39m=\u001b[39m(\n\u001b[0;32m   1148\u001b[0m         prefer_skip_nested_validation \u001b[39mor\u001b[39;00m global_skip_validation\n\u001b[0;32m   1149\u001b[0m     )\n\u001b[0;32m   1150\u001b[0m ):\n\u001b[1;32m-> 1151\u001b[0m     \u001b[39mreturn\u001b[39;00m fit_method(estimator, \u001b[39m*\u001b[39margs, \u001b[39m*\u001b[39m\u001b[39m*\u001b[39mkwargs)\n",
      "File \u001b[1;32mc:\\Users\\Naufal Maulana\\anaconda3\\Lib\\site-packages\\sklearn\\tree\\_classes.py:959\u001b[0m, in \u001b[0;36mDecisionTreeClassifier.fit\u001b[1;34m(self, X, y, sample_weight, check_input)\u001b[0m\n\u001b[0;32m    928\u001b[0m \u001b[39m@_fit_context\u001b[39m(prefer_skip_nested_validation\u001b[39m=\u001b[39m\u001b[39mTrue\u001b[39;00m)\n\u001b[0;32m    929\u001b[0m \u001b[39mdef\u001b[39;00m \u001b[39mfit\u001b[39m(\u001b[39mself\u001b[39m, X, y, sample_weight\u001b[39m=\u001b[39m\u001b[39mNone\u001b[39;00m, check_input\u001b[39m=\u001b[39m\u001b[39mTrue\u001b[39;00m):\n\u001b[0;32m    930\u001b[0m \u001b[39m    \u001b[39m\u001b[39m\"\"\"Build a decision tree classifier from the training set (X, y).\u001b[39;00m\n\u001b[0;32m    931\u001b[0m \n\u001b[0;32m    932\u001b[0m \u001b[39m    Parameters\u001b[39;00m\n\u001b[1;32m   (...)\u001b[0m\n\u001b[0;32m    956\u001b[0m \u001b[39m        Fitted estimator.\u001b[39;00m\n\u001b[0;32m    957\u001b[0m \u001b[39m    \"\"\"\u001b[39;00m\n\u001b[1;32m--> 959\u001b[0m     \u001b[39msuper\u001b[39m()\u001b[39m.\u001b[39m_fit(\n\u001b[0;32m    960\u001b[0m         X,\n\u001b[0;32m    961\u001b[0m         y,\n\u001b[0;32m    962\u001b[0m         sample_weight\u001b[39m=\u001b[39msample_weight,\n\u001b[0;32m    963\u001b[0m         check_input\u001b[39m=\u001b[39mcheck_input,\n\u001b[0;32m    964\u001b[0m     )\n\u001b[0;32m    965\u001b[0m     \u001b[39mreturn\u001b[39;00m \u001b[39mself\u001b[39m\n",
      "File \u001b[1;32mc:\\Users\\Naufal Maulana\\anaconda3\\Lib\\site-packages\\sklearn\\tree\\_classes.py:284\u001b[0m, in \u001b[0;36mBaseDecisionTree._fit\u001b[1;34m(self, X, y, sample_weight, check_input, missing_values_in_feature_mask)\u001b[0m\n\u001b[0;32m    281\u001b[0m \u001b[39mself\u001b[39m\u001b[39m.\u001b[39mn_outputs_ \u001b[39m=\u001b[39m y\u001b[39m.\u001b[39mshape[\u001b[39m1\u001b[39m]\n\u001b[0;32m    283\u001b[0m \u001b[39mif\u001b[39;00m is_classification:\n\u001b[1;32m--> 284\u001b[0m     check_classification_targets(y)\n\u001b[0;32m    285\u001b[0m     y \u001b[39m=\u001b[39m np\u001b[39m.\u001b[39mcopy(y)\n\u001b[0;32m    287\u001b[0m     \u001b[39mself\u001b[39m\u001b[39m.\u001b[39mclasses_ \u001b[39m=\u001b[39m []\n",
      "File \u001b[1;32mc:\\Users\\Naufal Maulana\\anaconda3\\Lib\\site-packages\\sklearn\\utils\\multiclass.py:215\u001b[0m, in \u001b[0;36mcheck_classification_targets\u001b[1;34m(y)\u001b[0m\n\u001b[0;32m    207\u001b[0m y_type \u001b[39m=\u001b[39m type_of_target(y, input_name\u001b[39m=\u001b[39m\u001b[39m\"\u001b[39m\u001b[39my\u001b[39m\u001b[39m\"\u001b[39m)\n\u001b[0;32m    208\u001b[0m \u001b[39mif\u001b[39;00m y_type \u001b[39mnot\u001b[39;00m \u001b[39min\u001b[39;00m [\n\u001b[0;32m    209\u001b[0m     \u001b[39m\"\u001b[39m\u001b[39mbinary\u001b[39m\u001b[39m\"\u001b[39m,\n\u001b[0;32m    210\u001b[0m     \u001b[39m\"\u001b[39m\u001b[39mmulticlass\u001b[39m\u001b[39m\"\u001b[39m,\n\u001b[1;32m   (...)\u001b[0m\n\u001b[0;32m    213\u001b[0m     \u001b[39m\"\u001b[39m\u001b[39mmultilabel-sequences\u001b[39m\u001b[39m\"\u001b[39m,\n\u001b[0;32m    214\u001b[0m ]:\n\u001b[1;32m--> 215\u001b[0m     \u001b[39mraise\u001b[39;00m \u001b[39mValueError\u001b[39;00m(\n\u001b[0;32m    216\u001b[0m         \u001b[39mf\u001b[39m\u001b[39m\"\u001b[39m\u001b[39mUnknown label type: \u001b[39m\u001b[39m{\u001b[39;00my_type\u001b[39m}\u001b[39;00m\u001b[39m. Maybe you are trying to fit a \u001b[39m\u001b[39m\"\u001b[39m\n\u001b[0;32m    217\u001b[0m         \u001b[39m\"\u001b[39m\u001b[39mclassifier, which expects discrete classes on a \u001b[39m\u001b[39m\"\u001b[39m\n\u001b[0;32m    218\u001b[0m         \u001b[39m\"\u001b[39m\u001b[39mregression target with continuous values.\u001b[39m\u001b[39m\"\u001b[39m\n\u001b[0;32m    219\u001b[0m     )\n",
      "\u001b[1;31mValueError\u001b[0m: Unknown label type: continuous. Maybe you are trying to fit a classifier, which expects discrete classes on a regression target with continuous values."
     ]
    }
   ],
   "source": [
    "from sklearn.tree import DecisionTreeClassifier\n",
    "clf = DecisionTreeClassifier()\n",
    "clf = clf.fit(X_train , y_train)"
   ]
  },
  {
   "cell_type": "code",
   "execution_count": null,
   "metadata": {},
   "outputs": [],
   "source": [
    "clf.get_params()"
   ]
  }
 ],
 "metadata": {
  "kernelspec": {
   "display_name": "base",
   "language": "python",
   "name": "python3"
  },
  "language_info": {
   "codemirror_mode": {
    "name": "ipython",
    "version": 3
   },
   "file_extension": ".py",
   "mimetype": "text/x-python",
   "name": "python",
   "nbconvert_exporter": "python",
   "pygments_lexer": "ipython3",
   "version": "3.11.5"
  }
 },
 "nbformat": 4,
 "nbformat_minor": 2
}
