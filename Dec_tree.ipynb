{
 "cells": [
  {
   "cell_type": "code",
   "execution_count": null,
   "metadata": {},
   "outputs": [],
   "source": [
    "import pandas as pd\n",
    "import numpy as np"
   ]
  },
  {
   "cell_type": "code",
   "execution_count": null,
   "metadata": {},
   "outputs": [],
   "source": [
    "test_case = pd.read_csv(\"test.csv\")\n",
    "train_case = pd.read_csv(\"train.csv\")\n",
    "frame  = [train_case , test_case]\n",
    "dataset = pd.concat(frame)\n",
    "print(dataset)"
   ]
  },
  {
   "cell_type": "code",
   "execution_count": null,
   "metadata": {},
   "outputs": [],
   "source": [
    "feature_columns = ['battery_power', 'ram', 'px_width', 'int_memory', 'three_g']\n",
    "target_column = 'price_range'\n",
    "dataset['battery_power'] = dataset['battery_power'].replace(np.nan, dataset['battery_power'].mean())\n",
    "dataset['ram'] = dataset['ram'].replace(np.nan, dataset['ram'].mean())\n",
    "dataset['px_width'] = dataset['px_width'].replace(np.nan, dataset['px_width'].mean())\n",
    "dataset['int_memory'] = dataset['int_memory'].replace(np.nan, dataset['int_memory'].mean())\n",
    "dataset['three_g'] = dataset['three_g'].replace(np.nan, dataset['three_g'].mean())\n",
    "dataset['blue'] = dataset['blue'].replace(np.nan, dataset['blue'].mean())\n",
    "dataset['clock_speed'] = dataset['clock_speed'].replace(np.nan, dataset['clock_speed'].mean())\n",
    "dataset['dual_sim'] = dataset['dual_sim'].replace(np.nan, dataset['dual_sim'].mean())\n",
    "dataset['fc'] = dataset['fc'].replace(np.nan, dataset['fc'].mean())\n",
    "dataset['four_g'] = dataset['four_g'].replace(np.nan, dataset['four_g'].mean())\n",
    "dataset['m_dep'] = dataset['m_dep'].replace(np.nan, dataset['m_dep'].mean())\n",
    "dataset['mobile_wt'] = dataset['mobile_wt'].replace(np.nan, dataset['mobile_wt'].mean())\n",
    "dataset['n_cores'] = dataset['n_cores'].replace(np.nan, dataset['n_cores'].mean())\n",
    "dataset['pc'] = dataset['pc'].replace(np.nan, dataset['pc'].mean())\n",
    "dataset['px_height'] = dataset['px_height'].replace(np.nan, dataset['px_height'].mean())\n",
    "dataset['sc_h'] = dataset['sc_h'].replace(np.nan, dataset['sc_h'].mean())\n",
    "dataset['sc_w'] = dataset['sc_w'].replace(np.nan, dataset['sc_w'].mean())\n",
    "dataset['talk_time'] = dataset['talk_time'].replace(np.nan, dataset['talk_time'].mean())\n",
    "dataset['touch_screen'] = dataset['touch_screen'].replace(np.nan, dataset['touch_screen'].mean())\n",
    "dataset['wifi'] = dataset['wifi'].replace(np.nan, dataset['wifi'].mean())\n",
    "dataset['price_range'] = dataset['price_range'].replace(np.nan, dataset['price_range'].mean())"
   ]
  },
  {
   "cell_type": "code",
   "execution_count": null,
   "metadata": {},
   "outputs": [],
   "source": [
    "#nilainya hilang\n",
    "dataset.corr()\n",
    "print(dataset)"
   ]
  },
  {
   "cell_type": "code",
   "execution_count": null,
   "metadata": {},
   "outputs": [],
   "source": [
    "print(feature_columns)"
   ]
  },
  {
   "cell_type": "code",
   "execution_count": null,
   "metadata": {},
   "outputs": [],
   "source": [
    "from sklearn.model_selection import train_test_split\n",
    "X = dataset[feature_columns]\n",
    "y = dataset[target_column]\n",
    "X_train , X_test , y_train , y_test = train_test_split(X , y , test_size=0.33)"
   ]
  },
  {
   "cell_type": "code",
   "execution_count": null,
   "metadata": {},
   "outputs": [],
   "source": [
    "from sklearn.tree import DecisionTreeClassifier\n",
    "clf = DecisionTreeClassifier()\n",
    "clf = clf.fit(X_train , y_train)"
   ]
  },
  {
   "cell_type": "code",
   "execution_count": null,
   "metadata": {},
   "outputs": [],
   "source": [
    "clf.get_params()"
   ]
  }
 ],
 "metadata": {
  "kernelspec": {
   "display_name": "base",
   "language": "python",
   "name": "python3"
  },
  "language_info": {
   "codemirror_mode": {
    "name": "ipython",
    "version": 3
   },
   "file_extension": ".py",
   "mimetype": "text/x-python",
   "name": "python",
   "nbconvert_exporter": "python",
   "pygments_lexer": "ipython3",
   "version": "3.11.5"
  }
 },
 "nbformat": 4,
 "nbformat_minor": 2
}
