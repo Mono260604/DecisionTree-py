{
 "cells": [
  {
   "cell_type": "markdown",
   "metadata": {},
   "source": [
    "                                        DECISION TREE"
   ]
  },
  {
   "cell_type": "markdown",
   "metadata": {},
   "source": [
    "-------------------------------------------------------------------------------------------------------------"
   ]
  },
  {
   "cell_type": "markdown",
   "metadata": {},
   "source": [
    "LIBRARY"
   ]
  },
  {
   "cell_type": "code",
   "execution_count": null,
   "metadata": {},
   "outputs": [],
   "source": [
    "import pandas as pd\n",
    "from sklearn.model_selection import train_test_split\n",
    "from sklearn.tree import DecisionTreeClassifier\n",
    "from sklearn.tree import DecisionTreeRegressor\n",
    "from sklearn.metrics import accuracy_score,  confusion_matrix,  precision_score,  recall_score,  classification_report\n",
    "from matplotlib import pyplot as plt\n",
    "from sklearn import tree\n",
    "from sklearn.tree import plot_tree\n",
    "# from sklearn.model_selection import cross_val_score\n",
    "import numpy as np"
   ]
  },
  {
   "cell_type": "markdown",
   "metadata": {},
   "source": [
    "IMPORT DATA MENGGUNAKAN PANDAS"
   ]
  },
  {
   "cell_type": "code",
   "execution_count": null,
   "metadata": {},
   "outputs": [],
   "source": [
    "test_case = pd.read_csv(\"test.csv\")\n",
    "train_case = pd.read_csv(\"train.csv\")\n",
    "dataset = train_case\n",
    "print(dataset)"
   ]
  },
  {
   "cell_type": "markdown",
   "metadata": {},
   "source": [
    "VARIABEL FITUR DAN TARGET DARI DATA"
   ]
  },
  {
   "cell_type": "code",
   "execution_count": null,
   "metadata": {},
   "outputs": [],
   "source": [
    "feature_columns = dataset.drop(columns=['price_range'])\n",
    "target_column = dataset['price_range']\n",
    "feature_columns"
   ]
  },
  {
   "cell_type": "markdown",
   "metadata": {},
   "source": [
    "TRAIN TEST SPLIT DATA"
   ]
  },
  {
   "cell_type": "code",
   "execution_count": null,
   "metadata": {},
   "outputs": [],
   "source": [
    "from sklearn.model_selection import train_test_split\n",
    "X = feature_columns\n",
    "y = target_column\n",
    "X_train , X_test , y_train , y_test = train_test_split(X , y , test_size=0.1)"
   ]
  },
  {
   "cell_type": "markdown",
   "metadata": {},
   "source": [
    "OPTIMALISASI DENGAN PRUNING"
   ]
  },
  {
   "cell_type": "code",
   "execution_count": null,
   "metadata": {},
   "outputs": [],
   "source": [
    "unoptimized_clf = DecisionTreeClassifier()\n",
    "\n",
    "# Cari nilai ccp_alpha yang optimal\n",
    "alphas = np.arange(0.0, 0.2, 0.01)  # Atur rentang nilai ccp_alpha\n",
    "mean_scores = []\n",
    "\n",
    "for alpha in alphas:\n",
    "    unoptimized_clf.set_params(ccp_alpha=alpha)\n",
    "    scores = cross_val_score(unoptimized_clf, X_train, y_train, cv=5, scoring='accuracy')  # Ganti dengan metrik yang diinginkan\n",
    "    mean_scores.append(scores.mean())\n",
    "\n",
    "# Temukan nilai ccp_alpha yang memberikan kinerja terbaik\n",
    "optimal_alpha = alphas[np.argmax(mean_scores)]\n",
    "print(f'Optimal ccp_alpha: {optimal_alpha}')"
   ]
  },
  {
   "cell_type": "markdown",
   "metadata": {},
   "source": [
    "DECISION TREE CLASSIFIER DENGAN DATA TRAIN SPLIT"
   ]
  },
  {
   "cell_type": "code",
   "execution_count": null,
   "metadata": {},
   "outputs": [],
   "source": [
    "# clf = DecisionTreeClassifier(criterion='entropy', random_state=42, max_depth=4, max_features=None ,ccp_alpha=optimal_alpha)\n",
    "# clf = clf.fit(X_train, y_train)"
   ]
  },
  {
   "cell_type": "markdown",
   "metadata": {},
   "source": [
    "DECISION TREE CLASSIFIER TANPA DATA TRAIN SPLIT"
   ]
  },
  {
   "cell_type": "code",
   "execution_count": null,
   "metadata": {},
   "outputs": [],
   "source": [
    "clf = DecisionTreeClassifier(criterion='entropy',random_state=42, max_depth=5, max_features=None ,ccp_alpha=optimal_alpha )\n",
    "clf = clf.fit(feature_columns, target_column) "
   ]
  },
  {
   "cell_type": "markdown",
   "metadata": {},
   "source": []
  },
  {
   "cell_type": "markdown",
   "metadata": {},
   "source": [
    "1 ROW DATA"
   ]
  },
  {
   "cell_type": "code",
   "execution_count": null,
   "metadata": {},
   "outputs": [],
   "source": [
    "# feature_row_index = np.array(feature_columns)\n",
    "# feature_row_data = feature_row_index[0].reshape(1, -1)\n",
    "\n",
    "# target_row_index = np.array(target_column)\n",
    "# target_row_data = target_row_index[0].reshape(1, -1)\n",
    "\n",
    "# # Membuat dan melatih model\n",
    "# single_clf = DecisionTreeClassifier(criterion='entropy', random_state=42, max_depth=4, ccp_alpha=optimal_alpha)\n",
    "# single_clf = single_clf.fit(feature_row_data, target_row_data)"
   ]
  },
  {
   "cell_type": "code",
   "execution_count": null,
   "metadata": {},
   "outputs": [],
   "source": [
    "# test_single_model = single_clf.predict(feature_row_data)\n",
    "# test_single_model"
   ]
  },
  {
   "cell_type": "markdown",
   "metadata": {},
   "source": [
    "PREDICTIONS"
   ]
  },
  {
   "cell_type": "code",
   "execution_count": null,
   "metadata": {},
   "outputs": [],
   "source": [
    "predictions = clf.predict(X_test)\n",
    "predictions"
   ]
  },
  {
   "cell_type": "markdown",
   "metadata": {},
   "source": [
    "FULL/RAW PREDICTION"
   ]
  },
  {
   "cell_type": "code",
   "execution_count": null,
   "metadata": {},
   "outputs": [],
   "source": [
    "full_predictions = clf.predict(feature_columns)\n",
    "full_predictions"
   ]
  },
  {
   "cell_type": "markdown",
   "metadata": {},
   "source": [
    "METRICS VALIDATION"
   ]
  },
  {
   "cell_type": "code",
   "execution_count": null,
   "metadata": {},
   "outputs": [],
   "source": [
    "accuracy_score(y_test, predictions)\n",
    "confusion_matrix(y_test, predictions, labels=[0,1])\n",
    "precision_score(y_test, predictions, average='weighted')\n",
    "recall_score(y_test, predictions, average='weighted')\n",
    "print(classification_report(y_test, predictions, target_names=['accuracy_score', 'confusion_matrix', 'precision_score', 'recall_score']))"
   ]
  },
  {
   "cell_type": "markdown",
   "metadata": {},
   "source": [
    "FULL METRICS VALIDATION"
   ]
  },
  {
   "cell_type": "code",
   "execution_count": null,
   "metadata": {},
   "outputs": [],
   "source": [
    "accuracy_score(target_column, full_predictions)\n",
    "confusion_matrix(target_column, full_predictions, labels=[0,1])\n",
    "precision_score(target_column, full_predictions, average='weighted')\n",
    "recall_score(target_column, full_predictions, average='weighted')\n",
    "print(classification_report(target_column, full_predictions, target_names=['accuracy_score', 'confusion_matrix', 'precision_score', 'recall_score']))"
   ]
  },
  {
   "cell_type": "markdown",
   "metadata": {},
   "source": [
    "SINGLE DATA METRICS VALIDATION"
   ]
  },
  {
   "cell_type": "code",
   "execution_count": null,
   "metadata": {},
   "outputs": [],
   "source": [
    "# acc_score = accuracy_score(target_row_data, test_single_model)\n",
    "# conf_matrix = confusion_matrix(target_row_data, test_single_model, labels=[0, 1])\n",
    "# prec_score = precision_score(target_row_data, test_single_model, average='weighted')\n",
    "# rec_score = recall_score(target_row_data, test_single_model, average='weighted')\n",
    "\n",
    "# # Menampilkan classification report\n",
    "# print(classification_report(target_row_data, test_single_model, target_names=['class 0', 'class 1']))"
   ]
  },
  {
   "cell_type": "markdown",
   "metadata": {},
   "source": [
    "FEATURE IMPORTANCE PLOT"
   ]
  },
  {
   "cell_type": "code",
   "execution_count": null,
   "metadata": {},
   "outputs": [],
   "source": [
    "feature_names = X.columns\n",
    "feature_importance = pd.DataFrame(clf.feature_importances_, index=X.columns, columns=['Importance'])\n",
    "feature_importance = feature_importance.sort_values('Importance', ascending=False)\n",
    "\n",
    "from matplotlib import pyplot as plt\n",
    "top_n = 10\n",
    "plt.figure(figsize=(10, 6))\n",
    "plt.barh(range(top_n), feature_importance['Importance'][:top_n], align='center')\n",
    "plt.yticks(range(top_n), feature_importance.index[:top_n])\n",
    "plt.xlabel('Feature Importance')\n",
    "plt.title('Top 10 Feature Importances - Decision Tree Regressor')\n",
    "plt.show()"
   ]
  },
  {
   "cell_type": "markdown",
   "metadata": {},
   "source": [
    "VISUALIZATION"
   ]
  },
  {
   "cell_type": "code",
   "execution_count": null,
   "metadata": {},
   "outputs": [],
   "source": [
    "fn = feature_columns.columns.tolist()\n",
    "cn =  [str(i) for i in dataset['price_range'].unique()]\n",
    "fig, axes = plt.subplots(nrows=1, ncols=1, figsize=(10, 5), dpi=300)\n",
    "plot_tree(clf, feature_names=fn, class_names=cn, filled=True, rounded=True, ax=axes)\n",
    "plt.show()\n"
   ]
  }
 ],
 "metadata": {
  "kernelspec": {
   "display_name": "base",
   "language": "python",
   "name": "python3"
  },
  "language_info": {
   "codemirror_mode": {
    "name": "ipython",
    "version": 3
   },
   "file_extension": ".py",
   "mimetype": "text/x-python",
   "name": "python",
   "nbconvert_exporter": "python",
   "pygments_lexer": "ipython3",
   "version": "3.11.5"
  }
 },
 "nbformat": 4,
 "nbformat_minor": 2
}
