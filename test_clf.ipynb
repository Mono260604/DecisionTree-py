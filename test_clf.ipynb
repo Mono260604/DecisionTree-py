{
 "cells": [
  {
   "cell_type": "code",
   "execution_count": 123,
   "metadata": {},
   "outputs": [],
   "source": [
    "import pandas as pd"
   ]
  },
  {
   "cell_type": "code",
   "execution_count": 124,
   "metadata": {},
   "outputs": [
    {
     "name": "stdout",
     "output_type": "stream",
     "text": [
      "      battery_power  blue  clock_speed  dual_sim  fc  four_g  int_memory  \\\n",
      "0               842     0          2.2         0   1       0           7   \n",
      "1              1021     1          0.5         1   0       1          53   \n",
      "2               563     1          0.5         1   2       1          41   \n",
      "3               615     1          2.5         0   0       0          10   \n",
      "4              1821     1          1.2         0  13       1          44   \n",
      "...             ...   ...          ...       ...  ..     ...         ...   \n",
      "1995            794     1          0.5         1   0       1           2   \n",
      "1996           1965     1          2.6         1   0       0          39   \n",
      "1997           1911     0          0.9         1   1       1          36   \n",
      "1998           1512     0          0.9         0   4       1          46   \n",
      "1999            510     1          2.0         1   5       1          45   \n",
      "\n",
      "      m_dep  mobile_wt  n_cores  ...  px_height  px_width   ram  sc_h  sc_w  \\\n",
      "0       0.6        188        2  ...         20       756  2549     9     7   \n",
      "1       0.7        136        3  ...        905      1988  2631    17     3   \n",
      "2       0.9        145        5  ...       1263      1716  2603    11     2   \n",
      "3       0.8        131        6  ...       1216      1786  2769    16     8   \n",
      "4       0.6        141        2  ...       1208      1212  1411     8     2   \n",
      "...     ...        ...      ...  ...        ...       ...   ...   ...   ...   \n",
      "1995    0.8        106        6  ...       1222      1890   668    13     4   \n",
      "1996    0.2        187        4  ...        915      1965  2032    11    10   \n",
      "1997    0.7        108        8  ...        868      1632  3057     9     1   \n",
      "1998    0.1        145        5  ...        336       670   869    18    10   \n",
      "1999    0.9        168        6  ...        483       754  3919    19     4   \n",
      "\n",
      "      talk_time  three_g  touch_screen  wifi  price_range  \n",
      "0            19        0             0     1            1  \n",
      "1             7        1             1     0            2  \n",
      "2             9        1             1     0            2  \n",
      "3            11        1             0     0            2  \n",
      "4            15        1             1     0            1  \n",
      "...         ...      ...           ...   ...          ...  \n",
      "1995         19        1             1     0            0  \n",
      "1996         16        1             1     1            2  \n",
      "1997          5        1             1     0            3  \n",
      "1998         19        1             1     1            0  \n",
      "1999          2        1             1     1            3  \n",
      "\n",
      "[2000 rows x 21 columns]\n"
     ]
    }
   ],
   "source": [
    "test_case = pd.read_csv(\"test.csv\")\n",
    "train_case = pd.read_csv(\"train.csv\")\n",
    "dataset = train_case\n",
    "print(dataset)"
   ]
  },
  {
   "cell_type": "code",
   "execution_count": 125,
   "metadata": {},
   "outputs": [
    {
     "name": "stdout",
     "output_type": "stream",
     "text": [
      "      battery_power  blue  clock_speed  dual_sim  fc  four_g  int_memory  \\\n",
      "0               842     0          2.2         0   1       0           7   \n",
      "1              1021     1          0.5         1   0       1          53   \n",
      "2               563     1          0.5         1   2       1          41   \n",
      "3               615     1          2.5         0   0       0          10   \n",
      "4              1821     1          1.2         0  13       1          44   \n",
      "...             ...   ...          ...       ...  ..     ...         ...   \n",
      "1995            794     1          0.5         1   0       1           2   \n",
      "1996           1965     1          2.6         1   0       0          39   \n",
      "1997           1911     0          0.9         1   1       1          36   \n",
      "1998           1512     0          0.9         0   4       1          46   \n",
      "1999            510     1          2.0         1   5       1          45   \n",
      "\n",
      "      m_dep  mobile_wt  n_cores  ...  px_height  px_width   ram  sc_h  sc_w  \\\n",
      "0       0.6        188        2  ...         20       756  2549     9     7   \n",
      "1       0.7        136        3  ...        905      1988  2631    17     3   \n",
      "2       0.9        145        5  ...       1263      1716  2603    11     2   \n",
      "3       0.8        131        6  ...       1216      1786  2769    16     8   \n",
      "4       0.6        141        2  ...       1208      1212  1411     8     2   \n",
      "...     ...        ...      ...  ...        ...       ...   ...   ...   ...   \n",
      "1995    0.8        106        6  ...       1222      1890   668    13     4   \n",
      "1996    0.2        187        4  ...        915      1965  2032    11    10   \n",
      "1997    0.7        108        8  ...        868      1632  3057     9     1   \n",
      "1998    0.1        145        5  ...        336       670   869    18    10   \n",
      "1999    0.9        168        6  ...        483       754  3919    19     4   \n",
      "\n",
      "      talk_time  three_g  touch_screen  wifi  price_range  \n",
      "0            19        0             0     1            1  \n",
      "1             7        1             1     0            2  \n",
      "2             9        1             1     0            2  \n",
      "3            11        1             0     0            2  \n",
      "4            15        1             1     0            1  \n",
      "...         ...      ...           ...   ...          ...  \n",
      "1995         19        1             1     0            0  \n",
      "1996         16        1             1     1            2  \n",
      "1997          5        1             1     0            3  \n",
      "1998         19        1             1     1            0  \n",
      "1999          2        1             1     1            3  \n",
      "\n",
      "[2000 rows x 21 columns]\n"
     ]
    }
   ],
   "source": [
    "dataset.corr()\n",
    "print(dataset)"
   ]
  },
  {
   "cell_type": "code",
   "execution_count": 126,
   "metadata": {},
   "outputs": [],
   "source": [
    "feature_columns = dataset.drop(columns=['price_range'])\n",
    "target_column = dataset['price_range']"
   ]
  },
  {
   "cell_type": "code",
   "execution_count": 127,
   "metadata": {},
   "outputs": [],
   "source": [
    "from sklearn.model_selection import train_test_split\n",
    "X = feature_columns\n",
    "y = target_column\n",
    "X_train , X_test , y_train , y_test = train_test_split(X , y , test_size=0.33)"
   ]
  },
  {
   "cell_type": "code",
   "execution_count": 128,
   "metadata": {},
   "outputs": [],
   "source": [
    "from sklearn.preprocessing import StandardScaler\n",
    "scaler = StandardScaler()\n",
    "X_train = scaler.fit_transform(X_train)\n",
    "X_test = scaler.transform(X_test)"
   ]
  },
  {
   "cell_type": "code",
   "execution_count": 129,
   "metadata": {},
   "outputs": [],
   "source": [
    "from sklearn.tree import DecisionTreeClassifier\n",
    "clf = DecisionTreeClassifier(criterion='entropy', random_state=42)\n",
    "clf = clf.fit(X_train, y_train)"
   ]
  },
  {
   "cell_type": "code",
   "execution_count": 130,
   "metadata": {},
   "outputs": [
    {
     "data": {
      "text/plain": [
       "array([0, 1, 3, 0, 3, 1, 3, 2, 0, 2, 0, 1, 3, 3, 0, 3, 3, 2, 1, 2, 3, 3,\n",
       "       2, 3, 2, 1, 0, 2, 2, 1, 2, 0, 1, 3, 3, 1, 0, 0, 2, 2, 1, 3, 1, 0,\n",
       "       1, 3, 1, 0, 0, 3, 0, 2, 0, 1, 3, 0, 0, 0, 2, 2, 3, 2, 1, 2, 0, 0,\n",
       "       0, 0, 2, 0, 3, 0, 1, 1, 0, 0, 0, 0, 3, 2, 1, 3, 1, 0, 0, 3, 3, 1,\n",
       "       3, 2, 0, 0, 2, 3, 3, 0, 2, 0, 3, 1, 0, 3, 3, 2, 3, 2, 0, 1, 2, 2,\n",
       "       0, 1, 2, 2, 3, 3, 3, 3, 3, 0, 1, 1, 2, 1, 3, 1, 3, 3, 3, 2, 3, 0,\n",
       "       2, 1, 1, 2, 3, 1, 3, 3, 0, 0, 2, 1, 1, 2, 3, 3, 0, 0, 1, 0, 2, 3,\n",
       "       3, 3, 3, 1, 0, 2, 2, 2, 1, 3, 2, 1, 3, 0, 3, 0, 1, 1, 2, 0, 1, 2,\n",
       "       2, 1, 0, 3, 2, 1, 1, 2, 1, 2, 1, 2, 2, 0, 3, 3, 2, 1, 3, 0, 0, 1,\n",
       "       2, 3, 1, 2, 2, 2, 2, 3, 1, 0, 0, 1, 0, 1, 1, 2, 1, 0, 1, 0, 1, 1,\n",
       "       2, 1, 1, 1, 1, 2, 1, 2, 2, 0, 1, 2, 2, 1, 0, 3, 3, 2, 3, 0, 1, 0,\n",
       "       3, 1, 3, 0, 3, 3, 0, 3, 2, 3, 3, 2, 3, 0, 3, 1, 2, 2, 1, 0, 0, 0,\n",
       "       3, 0, 1, 1, 0, 1, 1, 1, 1, 2, 1, 2, 3, 2, 0, 2, 1, 2, 0, 1, 3, 1,\n",
       "       3, 0, 3, 3, 3, 2, 1, 3, 2, 0, 3, 3, 0, 0, 3, 0, 3, 0, 2, 1, 3, 1,\n",
       "       3, 1, 0, 0, 2, 3, 2, 2, 2, 3, 1, 2, 1, 3, 2, 0, 2, 1, 3, 3, 1, 1,\n",
       "       1, 1, 3, 0, 3, 1, 2, 2, 0, 2, 1, 0, 3, 3, 0, 2, 0, 2, 3, 3, 2, 0,\n",
       "       0, 1, 2, 3, 1, 2, 0, 0, 0, 3, 2, 2, 0, 2, 1, 3, 1, 3, 2, 0, 2, 0,\n",
       "       3, 2, 1, 3, 0, 1, 0, 0, 1, 2, 0, 3, 3, 0, 1, 3, 0, 1, 0, 3, 3, 3,\n",
       "       3, 0, 0, 2, 3, 0, 3, 0, 3, 1, 3, 1, 1, 1, 1, 1, 3, 0, 1, 3, 1, 2,\n",
       "       3, 1, 1, 1, 1, 2, 3, 1, 1, 1, 2, 2, 3, 3, 0, 0, 1, 3, 3, 3, 2, 1,\n",
       "       0, 2, 1, 2, 2, 1, 1, 2, 2, 3, 1, 1, 2, 3, 2, 2, 2, 0, 1, 0, 2, 2,\n",
       "       1, 2, 3, 2, 1, 2, 3, 3, 0, 1, 1, 3, 0, 0, 0, 0, 1, 0, 1, 2, 0, 3,\n",
       "       2, 0, 3, 2, 1, 2, 1, 1, 1, 3, 3, 2, 3, 1, 2, 3, 3, 3, 0, 2, 3, 0,\n",
       "       0, 1, 3, 2, 2, 1, 1, 0, 2, 0, 2, 3, 3, 0, 3, 2, 2, 0, 2, 3, 3, 1,\n",
       "       2, 1, 1, 2, 3, 2, 3, 0, 3, 1, 1, 3, 0, 1, 0, 1, 1, 2, 0, 0, 0, 0,\n",
       "       2, 2, 1, 3, 0, 0, 1, 1, 3, 1, 0, 3, 0, 1, 2, 1, 3, 3, 0, 0, 1, 2,\n",
       "       1, 3, 2, 3, 3, 1, 2, 1, 3, 3, 2, 0, 3, 2, 0, 2, 0, 2, 1, 0, 3, 1,\n",
       "       0, 1, 2, 3, 3, 1, 1, 2, 1, 1, 0, 0, 0, 3, 1, 2, 1, 0, 2, 2, 1, 1,\n",
       "       0, 1, 2, 0, 0, 3, 0, 1, 0, 2, 2, 0, 3, 3, 0, 0, 1, 3, 1, 2, 2, 3,\n",
       "       0, 2, 2, 1, 0, 3, 0, 0, 0, 3, 3, 2, 0, 3, 3, 2, 3, 0, 2, 1, 0, 2],\n",
       "      dtype=int64)"
      ]
     },
     "execution_count": 130,
     "metadata": {},
     "output_type": "execute_result"
    }
   ],
   "source": [
    "predictions = clf.predict(X_test)\n",
    "predictions"
   ]
  },
  {
   "cell_type": "code",
   "execution_count": 131,
   "metadata": {},
   "outputs": [
    {
     "data": {
      "text/plain": [
       "0.853030303030303"
      ]
     },
     "execution_count": 131,
     "metadata": {},
     "output_type": "execute_result"
    }
   ],
   "source": [
    "from sklearn.metrics import accuracy_score\n",
    "accuracy_score(y_test, predictions)"
   ]
  },
  {
   "cell_type": "code",
   "execution_count": 132,
   "metadata": {},
   "outputs": [
    {
     "data": {
      "text/plain": [
       "array([[145,  16],\n",
       "       [ 17, 134]], dtype=int64)"
      ]
     },
     "execution_count": 132,
     "metadata": {},
     "output_type": "execute_result"
    }
   ],
   "source": [
    "from sklearn.metrics import confusion_matrix\n",
    "confusion_matrix(y_test, predictions, labels=[0,1])"
   ]
  },
  {
   "cell_type": "code",
   "execution_count": 133,
   "metadata": {},
   "outputs": [
    {
     "data": {
      "text/plain": [
       "0.8535058994584553"
      ]
     },
     "execution_count": 133,
     "metadata": {},
     "output_type": "execute_result"
    }
   ],
   "source": [
    "from sklearn.metrics import precision_score\n",
    "precision_score(y_test, predictions, average='weighted')"
   ]
  },
  {
   "cell_type": "code",
   "execution_count": 134,
   "metadata": {},
   "outputs": [
    {
     "data": {
      "text/plain": [
       "0.853030303030303"
      ]
     },
     "execution_count": 134,
     "metadata": {},
     "output_type": "execute_result"
    }
   ],
   "source": [
    "from sklearn.metrics import recall_score\n",
    "recall_score(y_test, predictions, average='weighted')"
   ]
  },
  {
   "cell_type": "code",
   "execution_count": 135,
   "metadata": {},
   "outputs": [
    {
     "name": "stdout",
     "output_type": "stream",
     "text": [
      "                  precision    recall  f1-score   support\n",
      "\n",
      "  accuracy_score       0.90      0.90      0.90       161\n",
      "confusion_matrix       0.79      0.79      0.79       170\n",
      " precision_score       0.79      0.81      0.80       155\n",
      "    recall_score       0.93      0.91      0.92       174\n",
      "\n",
      "        accuracy                           0.85       660\n",
      "       macro avg       0.85      0.85      0.85       660\n",
      "    weighted avg       0.85      0.85      0.85       660\n",
      "\n"
     ]
    }
   ],
   "source": [
    "from sklearn.metrics import classification_report\n",
    "print(classification_report(y_test, predictions, target_names=['accuracy_score', 'confusion_matrix', 'precision_score', 'recall_score']))"
   ]
  },
  {
   "cell_type": "code",
   "execution_count": 136,
   "metadata": {},
   "outputs": [
    {
     "data": {
      "text/plain": [
       "Index(['battery_power', 'blue', 'clock_speed', 'dual_sim', 'fc', 'four_g',\n",
       "       'int_memory', 'm_dep', 'mobile_wt', 'n_cores', 'pc', 'px_height',\n",
       "       'px_width', 'ram', 'sc_h', 'sc_w', 'talk_time', 'three_g',\n",
       "       'touch_screen', 'wifi'],\n",
       "      dtype='object')"
      ]
     },
     "execution_count": 136,
     "metadata": {},
     "output_type": "execute_result"
    }
   ],
   "source": [
    "feature_names = X.columns\n",
    "feature_names"
   ]
  },
  {
   "cell_type": "code",
   "execution_count": 137,
   "metadata": {},
   "outputs": [
    {
     "data": {
      "text/html": [
       "<div>\n",
       "<style scoped>\n",
       "    .dataframe tbody tr th:only-of-type {\n",
       "        vertical-align: middle;\n",
       "    }\n",
       "\n",
       "    .dataframe tbody tr th {\n",
       "        vertical-align: top;\n",
       "    }\n",
       "\n",
       "    .dataframe thead th {\n",
       "        text-align: right;\n",
       "    }\n",
       "</style>\n",
       "<table border=\"1\" class=\"dataframe\">\n",
       "  <thead>\n",
       "    <tr style=\"text-align: right;\">\n",
       "      <th></th>\n",
       "      <th>Importance</th>\n",
       "    </tr>\n",
       "  </thead>\n",
       "  <tbody>\n",
       "    <tr>\n",
       "      <th>battery_power</th>\n",
       "      <td>0.115907</td>\n",
       "    </tr>\n",
       "    <tr>\n",
       "      <th>blue</th>\n",
       "      <td>0.002765</td>\n",
       "    </tr>\n",
       "    <tr>\n",
       "      <th>clock_speed</th>\n",
       "      <td>0.003466</td>\n",
       "    </tr>\n",
       "    <tr>\n",
       "      <th>dual_sim</th>\n",
       "      <td>0.000000</td>\n",
       "    </tr>\n",
       "    <tr>\n",
       "      <th>fc</th>\n",
       "      <td>0.002239</td>\n",
       "    </tr>\n",
       "    <tr>\n",
       "      <th>four_g</th>\n",
       "      <td>0.000000</td>\n",
       "    </tr>\n",
       "    <tr>\n",
       "      <th>int_memory</th>\n",
       "      <td>0.017373</td>\n",
       "    </tr>\n",
       "    <tr>\n",
       "      <th>m_dep</th>\n",
       "      <td>0.007602</td>\n",
       "    </tr>\n",
       "    <tr>\n",
       "      <th>mobile_wt</th>\n",
       "      <td>0.014568</td>\n",
       "    </tr>\n",
       "    <tr>\n",
       "      <th>n_cores</th>\n",
       "      <td>0.002408</td>\n",
       "    </tr>\n",
       "    <tr>\n",
       "      <th>pc</th>\n",
       "      <td>0.009159</td>\n",
       "    </tr>\n",
       "    <tr>\n",
       "      <th>px_height</th>\n",
       "      <td>0.076089</td>\n",
       "    </tr>\n",
       "    <tr>\n",
       "      <th>px_width</th>\n",
       "      <td>0.074218</td>\n",
       "    </tr>\n",
       "    <tr>\n",
       "      <th>ram</th>\n",
       "      <td>0.645540</td>\n",
       "    </tr>\n",
       "    <tr>\n",
       "      <th>sc_h</th>\n",
       "      <td>0.001922</td>\n",
       "    </tr>\n",
       "    <tr>\n",
       "      <th>sc_w</th>\n",
       "      <td>0.015784</td>\n",
       "    </tr>\n",
       "    <tr>\n",
       "      <th>talk_time</th>\n",
       "      <td>0.006285</td>\n",
       "    </tr>\n",
       "    <tr>\n",
       "      <th>three_g</th>\n",
       "      <td>0.001493</td>\n",
       "    </tr>\n",
       "    <tr>\n",
       "      <th>touch_screen</th>\n",
       "      <td>0.000000</td>\n",
       "    </tr>\n",
       "    <tr>\n",
       "      <th>wifi</th>\n",
       "      <td>0.003181</td>\n",
       "    </tr>\n",
       "  </tbody>\n",
       "</table>\n",
       "</div>"
      ],
      "text/plain": [
       "               Importance\n",
       "battery_power    0.115907\n",
       "blue             0.002765\n",
       "clock_speed      0.003466\n",
       "dual_sim         0.000000\n",
       "fc               0.002239\n",
       "four_g           0.000000\n",
       "int_memory       0.017373\n",
       "m_dep            0.007602\n",
       "mobile_wt        0.014568\n",
       "n_cores          0.002408\n",
       "pc               0.009159\n",
       "px_height        0.076089\n",
       "px_width         0.074218\n",
       "ram              0.645540\n",
       "sc_h             0.001922\n",
       "sc_w             0.015784\n",
       "talk_time        0.006285\n",
       "three_g          0.001493\n",
       "touch_screen     0.000000\n",
       "wifi             0.003181"
      ]
     },
     "execution_count": 137,
     "metadata": {},
     "output_type": "execute_result"
    }
   ],
   "source": [
    "feature_importance = pd.DataFrame(clf.feature_importances_, index=X.columns, columns=['Importance'])\n",
    "feature_importance"
   ]
  },
  {
   "cell_type": "code",
   "execution_count": 138,
   "metadata": {},
   "outputs": [],
   "source": [
    "feature_importance = feature_importance.sort_values('Importance', ascending=False)"
   ]
  },
  {
   "cell_type": "code",
   "execution_count": 139,
   "metadata": {},
   "outputs": [
    {
     "data": {
      "image/png": "[encoded data removed]",
      "text/plain": [
       "<Figure size 1000x600 with 1 Axes>"
      ]
     },
     "metadata": {},
     "output_type": "display_data"
    }
   ],
   "source": [
    "from matplotlib import pyplot as plt\n",
    "top_n = 10\n",
    "plt.figure(figsize=(10, 6))\n",
    "plt.barh(range(top_n), feature_importance['Importance'][:top_n], align='center')\n",
    "plt.yticks(range(top_n), feature_importance.index[:top_n])\n",
    "plt.xlabel('Feature Importance')\n",
    "plt.title('Top 10 Feature Importances - Decision Tree Regressor')\n",
    "plt.show()"
   ]
  },
  {
   "cell_type": "code",
   "execution_count": 140,
   "metadata": {},
   "outputs": [
    {
     "data": {
      "text/plain": [
       "[Text(0.5046088129496403, 0.9583333333333334, 'x[13] <= 0.12\\nentropy = 2.0\\nsamples = 1340\\nvalue = [339, 330, 345, 326]'),\n",
       " Text(0.1818794964028777, 0.875, 'x[13] <= -0.849\\nentropy = 1.364\\nsamples = 707\\nvalue = [339, 298, 70, 0]'),\n",
       " Text(0.07733812949640288, 0.7916666666666666, 'x[11] <= 1.388\\nentropy = 0.579\\nsamples = 333\\nvalue = [287, 46, 0, 0]'),\n",
       " Text(0.0539568345323741, 0.7083333333333334, 'x[0] <= 0.093\\nentropy = 0.417\\nsamples = 297\\nvalue = [272, 25, 0, 0]'),\n",
       " Text(0.046762589928057555, 0.625, 'entropy = 0.0\\nsamples = 169\\nvalue = [169, 0, 0, 0]'),\n",
       " Text(0.06115107913669065, 0.625, 'x[13] <= -1.198\\nentropy = 0.712\\nsamples = 128\\nvalue = [103, 25, 0, 0]'),\n",
       " Text(0.03597122302158273, 0.5416666666666666, 'x[12] <= 0.977\\nentropy = 0.362\\nsamples = 87\\nvalue = [81, 6, 0, 0]'),\n",
       " Text(0.02158273381294964, 0.4583333333333333, 'x[9] <= -1.324\\nentropy = 0.098\\nsamples = 79\\nvalue = [78, 1, 0, 0]'),\n",
       " Text(0.014388489208633094, 0.375, 'x[11] <= 0.092\\nentropy = 0.503\\nsamples = 9\\nvalue = [8, 1, 0, 0]'),\n",
       " Text(0.007194244604316547, 0.2916666666666667, 'entropy = 0.0\\nsamples = 7\\nvalue = [7, 0, 0, 0]'),\n",
       " Text(0.02158273381294964, 0.2916666666666667, 'x[12] <= -0.352\\nentropy = 1.0\\nsamples = 2\\nvalue = [1, 1, 0, 0]'),\n",
       " Text(0.014388489208633094, 0.20833333333333334, 'entropy = 0.0\\nsamples = 1\\nvalue = [1, 0, 0, 0]'),\n",
       " Text(0.02877697841726619, 0.20833333333333334, 'entropy = 0.0\\nsamples = 1\\nvalue = [0, 1, 0, 0]'),\n",
       " Text(0.02877697841726619, 0.375, 'entropy = 0.0\\nsamples = 70\\nvalue = [70, 0, 0, 0]'),\n",
       " Text(0.050359712230215826, 0.4583333333333333, 'x[11] <= 0.074\\nentropy = 0.954\\nsamples = 8\\nvalue = [3, 5, 0, 0]'),\n",
       " Text(0.04316546762589928, 0.375, 'entropy = 0.0\\nsamples = 3\\nvalue = [3, 0, 0, 0]'),\n",
       " Text(0.05755395683453238, 0.375, 'entropy = 0.0\\nsamples = 5\\nvalue = [0, 5, 0, 0]'),\n",
       " Text(0.08633093525179857, 0.5416666666666666, 'x[11] <= 0.329\\nentropy = 0.996\\nsamples = 41\\nvalue = [22, 19, 0, 0]'),\n",
       " Text(0.07913669064748201, 0.4583333333333333, 'x[6] <= -1.186\\nentropy = 0.896\\nsamples = 32\\nvalue = [22, 10, 0, 0]'),\n",
       " Text(0.07194244604316546, 0.375, 'entropy = 0.0\\nsamples = 5\\nvalue = [0, 5, 0, 0]'),\n",
       " Text(0.08633093525179857, 0.375, 'x[6] <= 0.101\\nentropy = 0.691\\nsamples = 27\\nvalue = [22, 5, 0, 0]'),\n",
       " Text(0.07913669064748201, 0.2916666666666667, 'entropy = 0.0\\nsamples = 17\\nvalue = [17, 0, 0, 0]'),\n",
       " Text(0.09352517985611511, 0.2916666666666667, 'x[0] <= 0.51\\nentropy = 1.0\\nsamples = 10\\nvalue = [5, 5, 0, 0]'),\n",
       " Text(0.08633093525179857, 0.20833333333333334, 'entropy = 0.0\\nsamples = 3\\nvalue = [3, 0, 0, 0]'),\n",
       " Text(0.10071942446043165, 0.20833333333333334, 'x[2] <= 1.223\\nentropy = 0.863\\nsamples = 7\\nvalue = [2, 5, 0, 0]'),\n",
       " Text(0.09352517985611511, 0.125, 'entropy = 0.0\\nsamples = 5\\nvalue = [0, 5, 0, 0]'),\n",
       " Text(0.1079136690647482, 0.125, 'entropy = 0.0\\nsamples = 2\\nvalue = [2, 0, 0, 0]'),\n",
       " Text(0.09352517985611511, 0.4583333333333333, 'entropy = 0.0\\nsamples = 9\\nvalue = [0, 9, 0, 0]'),\n",
       " Text(0.10071942446043165, 0.7083333333333334, 'x[13] <= -1.424\\nentropy = 0.98\\nsamples = 36\\nvalue = [15, 21, 0, 0]'),\n",
       " Text(0.09352517985611511, 0.625, 'entropy = 0.0\\nsamples = 9\\nvalue = [9, 0, 0, 0]'),\n",
       " Text(0.1079136690647482, 0.625, 'x[12] <= 0.46\\nentropy = 0.764\\nsamples = 27\\nvalue = [6, 21, 0, 0]'),\n",
       " Text(0.10071942446043165, 0.5416666666666666, 'entropy = 0.0\\nsamples = 3\\nvalue = [3, 0, 0, 0]'),\n",
       " Text(0.11510791366906475, 0.5416666666666666, 'x[0] <= -0.923\\nentropy = 0.544\\nsamples = 24\\nvalue = [3, 21, 0, 0]'),\n",
       " Text(0.1079136690647482, 0.4583333333333333, 'x[8] <= -0.59\\nentropy = 0.985\\nsamples = 7\\nvalue = [3, 4, 0, 0]'),\n",
       " Text(0.10071942446043165, 0.375, 'entropy = 0.0\\nsamples = 3\\nvalue = [3, 0, 0, 0]'),\n",
       " Text(0.11510791366906475, 0.375, 'entropy = 0.0\\nsamples = 4\\nvalue = [0, 4, 0, 0]'),\n",
       " Text(0.1223021582733813, 0.4583333333333333, 'entropy = 0.0\\nsamples = 17\\nvalue = [0, 17, 0, 0]'),\n",
       " Text(0.2864208633093525, 0.7916666666666666, 'x[0] <= -0.284\\nentropy = 1.232\\nsamples = 374\\nvalue = [52, 252, 70, 0]'),\n",
       " Text(0.19784172661870503, 0.7083333333333334, 'x[13] <= -0.435\\nentropy = 1.037\\nsamples = 160\\nvalue = [48, 108, 4, 0]'),\n",
       " Text(0.16546762589928057, 0.625, 'x[12] <= 0.446\\nentropy = 0.847\\nsamples = 62\\nvalue = [45, 17, 0, 0]'),\n",
       " Text(0.14388489208633093, 0.5416666666666666, 'x[11] <= -0.011\\nentropy = 0.371\\nsamples = 42\\nvalue = [39, 3, 0, 0]'),\n",
       " Text(0.1366906474820144, 0.4583333333333333, 'entropy = 0.0\\nsamples = 31\\nvalue = [31, 0, 0, 0]'),\n",
       " Text(0.1510791366906475, 0.4583333333333333, 'x[0] <= -0.608\\nentropy = 0.845\\nsamples = 11\\nvalue = [8, 3, 0, 0]'),\n",
       " Text(0.14388489208633093, 0.375, 'x[11] <= 0.038\\nentropy = 0.503\\nsamples = 9\\nvalue = [8, 1, 0, 0]'),\n",
       " Text(0.1366906474820144, 0.2916666666666667, 'entropy = 0.0\\nsamples = 1\\nvalue = [0, 1, 0, 0]'),\n",
       " Text(0.1510791366906475, 0.2916666666666667, 'entropy = 0.0\\nsamples = 8\\nvalue = [8, 0, 0, 0]'),\n",
       " Text(0.15827338129496402, 0.375, 'entropy = 0.0\\nsamples = 2\\nvalue = [0, 2, 0, 0]'),\n",
       " Text(0.18705035971223022, 0.5416666666666666, 'x[11] <= -0.532\\nentropy = 0.881\\nsamples = 20\\nvalue = [6, 14, 0, 0]'),\n",
       " Text(0.17985611510791366, 0.4583333333333333, 'x[12] <= 1.595\\nentropy = 0.592\\nsamples = 7\\nvalue = [6, 1, 0, 0]'),\n",
       " Text(0.17266187050359713, 0.375, 'entropy = 0.0\\nsamples = 6\\nvalue = [6, 0, 0, 0]'),\n",
       " Text(0.18705035971223022, 0.375, 'entropy = 0.0\\nsamples = 1\\nvalue = [0, 1, 0, 0]'),\n",
       " Text(0.19424460431654678, 0.4583333333333333, 'entropy = 0.0\\nsamples = 13\\nvalue = [0, 13, 0, 0]'),\n",
       " Text(0.2302158273381295, 0.625, 'x[15] <= -1.215\\nentropy = 0.442\\nsamples = 98\\nvalue = [3, 91, 4, 0]'),\n",
       " Text(0.2158273381294964, 0.5416666666666666, 'x[13] <= -0.26\\nentropy = 0.985\\nsamples = 7\\nvalue = [3, 4, 0, 0]'),\n",
       " Text(0.20863309352517986, 0.4583333333333333, 'x[12] <= -0.323\\nentropy = 0.811\\nsamples = 4\\nvalue = [3, 1, 0, 0]'),\n",
       " Text(0.2014388489208633, 0.375, 'entropy = 0.0\\nsamples = 3\\nvalue = [3, 0, 0, 0]'),\n",
       " Text(0.2158273381294964, 0.375, 'entropy = 0.0\\nsamples = 1\\nvalue = [0, 1, 0, 0]'),\n",
       " Text(0.22302158273381295, 0.4583333333333333, 'entropy = 0.0\\nsamples = 3\\nvalue = [0, 3, 0, 0]'),\n",
       " Text(0.2446043165467626, 0.5416666666666666, 'x[11] <= 0.904\\nentropy = 0.26\\nsamples = 91\\nvalue = [0, 87, 4, 0]'),\n",
       " Text(0.23741007194244604, 0.4583333333333333, 'entropy = 0.0\\nsamples = 74\\nvalue = [0, 74, 0, 0]'),\n",
       " Text(0.2517985611510791, 0.4583333333333333, 'x[13] <= -0.05\\nentropy = 0.787\\nsamples = 17\\nvalue = [0, 13, 4, 0]'),\n",
       " Text(0.2446043165467626, 0.375, 'entropy = 0.0\\nsamples = 13\\nvalue = [0, 13, 0, 0]'),\n",
       " Text(0.2589928057553957, 0.375, 'entropy = 0.0\\nsamples = 4\\nvalue = [0, 0, 4, 0]'),\n",
       " Text(0.375, 0.7083333333333334, 'x[11] <= 0.136\\nentropy = 1.015\\nsamples = 214\\nvalue = [4, 144, 66, 0]'),\n",
       " Text(0.30935251798561153, 0.625, 'x[13] <= -0.424\\nentropy = 0.704\\nsamples = 119\\nvalue = [4, 102, 13, 0]'),\n",
       " Text(0.28776978417266186, 0.5416666666666666, 'x[0] <= 0.321\\nentropy = 0.362\\nsamples = 58\\nvalue = [4, 54, 0, 0]'),\n",
       " Text(0.2805755395683453, 0.4583333333333333, 'x[12] <= -0.643\\nentropy = 0.863\\nsamples = 14\\nvalue = [4, 10, 0, 0]'),\n",
       " Text(0.2733812949640288, 0.375, 'x[10] <= 1.416\\nentropy = 0.722\\nsamples = 5\\nvalue = [4, 1, 0, 0]'),\n",
       " Text(0.26618705035971224, 0.2916666666666667, 'entropy = 0.0\\nsamples = 4\\nvalue = [4, 0, 0, 0]'),\n",
       " Text(0.2805755395683453, 0.2916666666666667, 'entropy = 0.0\\nsamples = 1\\nvalue = [0, 1, 0, 0]'),\n",
       " Text(0.28776978417266186, 0.375, 'entropy = 0.0\\nsamples = 9\\nvalue = [0, 9, 0, 0]'),\n",
       " Text(0.2949640287769784, 0.4583333333333333, 'entropy = 0.0\\nsamples = 44\\nvalue = [0, 44, 0, 0]'),\n",
       " Text(0.33093525179856115, 0.5416666666666666, 'x[12] <= -0.352\\nentropy = 0.747\\nsamples = 61\\nvalue = [0, 48, 13, 0]'),\n",
       " Text(0.30935251798561153, 0.4583333333333333, 'x[13] <= 0.025\\nentropy = 0.271\\nsamples = 43\\nvalue = [0, 41, 2, 0]'),\n",
       " Text(0.302158273381295, 0.375, 'entropy = 0.0\\nsamples = 35\\nvalue = [0, 35, 0, 0]'),\n",
       " Text(0.31654676258992803, 0.375, 'x[15] <= -0.529\\nentropy = 0.811\\nsamples = 8\\nvalue = [0, 6, 2, 0]'),\n",
       " Text(0.30935251798561153, 0.2916666666666667, 'entropy = 0.0\\nsamples = 2\\nvalue = [0, 0, 2, 0]'),\n",
       " Text(0.3237410071942446, 0.2916666666666667, 'entropy = 0.0\\nsamples = 6\\nvalue = [0, 6, 0, 0]'),\n",
       " Text(0.35251798561151076, 0.4583333333333333, 'x[13] <= -0.257\\nentropy = 0.964\\nsamples = 18\\nvalue = [0, 7, 11, 0]'),\n",
       " Text(0.34532374100719426, 0.375, 'x[6] <= -0.346\\nentropy = 0.764\\nsamples = 9\\nvalue = [0, 7, 2, 0]'),\n",
       " Text(0.3381294964028777, 0.2916666666666667, 'entropy = 0.0\\nsamples = 7\\nvalue = [0, 7, 0, 0]'),\n",
       " Text(0.35251798561151076, 0.2916666666666667, 'entropy = 0.0\\nsamples = 2\\nvalue = [0, 0, 2, 0]'),\n",
       " Text(0.3597122302158273, 0.375, 'entropy = 0.0\\nsamples = 9\\nvalue = [0, 0, 9, 0]'),\n",
       " Text(0.44064748201438847, 0.625, 'x[13] <= -0.555\\nentropy = 0.99\\nsamples = 95\\nvalue = [0, 42, 53, 0]'),\n",
       " Text(0.39568345323741005, 0.5416666666666666, 'x[12] <= 1.526\\nentropy = 0.602\\nsamples = 34\\nvalue = [0, 29, 5, 0]'),\n",
       " Text(0.381294964028777, 0.4583333333333333, 'x[7] <= -1.193\\nentropy = 0.229\\nsamples = 27\\nvalue = [0, 26, 1, 0]'),\n",
       " Text(0.37410071942446044, 0.375, 'x[17] <= -0.627\\nentropy = 1.0\\nsamples = 2\\nvalue = [0, 1, 1, 0]'),\n",
       " Text(0.3669064748201439, 0.2916666666666667, 'entropy = 0.0\\nsamples = 1\\nvalue = [0, 0, 1, 0]'),\n",
       " Text(0.381294964028777, 0.2916666666666667, 'entropy = 0.0\\nsamples = 1\\nvalue = [0, 1, 0, 0]'),\n",
       " Text(0.38848920863309355, 0.375, 'entropy = 0.0\\nsamples = 25\\nvalue = [0, 25, 0, 0]'),\n",
       " Text(0.41007194244604317, 0.4583333333333333, 'x[7] <= -0.498\\nentropy = 0.985\\nsamples = 7\\nvalue = [0, 3, 4, 0]'),\n",
       " Text(0.4028776978417266, 0.375, 'entropy = 0.0\\nsamples = 3\\nvalue = [0, 0, 3, 0]'),\n",
       " Text(0.4172661870503597, 0.375, 'x[7] <= 0.718\\nentropy = 0.811\\nsamples = 4\\nvalue = [0, 3, 1, 0]'),\n",
       " Text(0.41007194244604317, 0.2916666666666667, 'entropy = 0.0\\nsamples = 3\\nvalue = [0, 3, 0, 0]'),\n",
       " Text(0.4244604316546763, 0.2916666666666667, 'entropy = 0.0\\nsamples = 1\\nvalue = [0, 0, 1, 0]'),\n",
       " Text(0.4856115107913669, 0.5416666666666666, 'x[12] <= 0.651\\nentropy = 0.747\\nsamples = 61\\nvalue = [0, 13, 48, 0]'),\n",
       " Text(0.460431654676259, 0.4583333333333333, 'x[0] <= 0.341\\nentropy = 0.971\\nsamples = 30\\nvalue = [0, 12, 18, 0]'),\n",
       " Text(0.4460431654676259, 0.375, 'x[15] <= 0.843\\nentropy = 0.503\\nsamples = 9\\nvalue = [0, 8, 1, 0]'),\n",
       " Text(0.43884892086330934, 0.2916666666666667, 'entropy = 0.0\\nsamples = 8\\nvalue = [0, 8, 0, 0]'),\n",
       " Text(0.45323741007194246, 0.2916666666666667, 'entropy = 0.0\\nsamples = 1\\nvalue = [0, 0, 1, 0]'),\n",
       " Text(0.4748201438848921, 0.375, 'x[13] <= -0.36\\nentropy = 0.702\\nsamples = 21\\nvalue = [0, 4, 17, 0]'),\n",
       " Text(0.4676258992805755, 0.2916666666666667, 'x[6] <= 0.297\\nentropy = 0.918\\nsamples = 6\\nvalue = [0, 4, 2, 0]'),\n",
       " Text(0.460431654676259, 0.20833333333333334, 'entropy = 0.0\\nsamples = 4\\nvalue = [0, 4, 0, 0]'),\n",
       " Text(0.4748201438848921, 0.20833333333333334, 'entropy = 0.0\\nsamples = 2\\nvalue = [0, 0, 2, 0]'),\n",
       " Text(0.48201438848920863, 0.2916666666666667, 'entropy = 0.0\\nsamples = 15\\nvalue = [0, 0, 15, 0]'),\n",
       " Text(0.5107913669064749, 0.4583333333333333, 'x[15] <= -1.215\\nentropy = 0.206\\nsamples = 31\\nvalue = [0, 1, 30, 0]'),\n",
       " Text(0.5035971223021583, 0.375, 'x[4] <= -0.416\\nentropy = 0.811\\nsamples = 4\\nvalue = [0, 1, 3, 0]'),\n",
       " Text(0.49640287769784175, 0.2916666666666667, 'entropy = 0.0\\nsamples = 3\\nvalue = [0, 0, 3, 0]'),\n",
       " Text(0.5107913669064749, 0.2916666666666667, 'entropy = 0.0\\nsamples = 1\\nvalue = [0, 1, 0, 0]'),\n",
       " Text(0.5179856115107914, 0.375, 'entropy = 0.0\\nsamples = 27\\nvalue = [0, 0, 27, 0]'),\n",
       " Text(0.8273381294964028, 0.875, 'x[13] <= 0.834\\nentropy = 1.233\\nsamples = 633\\nvalue = [0, 32, 275, 326]'),\n",
       " Text(0.6987410071942446, 0.7916666666666666, 'x[0] <= 0.303\\nentropy = 1.103\\nsamples = 290\\nvalue = [0, 32, 212, 46]'),\n",
       " Text(0.6187050359712231, 0.7083333333333334, 'x[12] <= 0.218\\nentropy = 0.895\\nsamples = 170\\nvalue = [0, 31, 133, 6]'),\n",
       " Text(0.579136690647482, 0.625, 'x[13] <= 0.506\\nentropy = 0.907\\nsamples = 93\\nvalue = [0, 30, 63, 0]'),\n",
       " Text(0.5539568345323741, 0.5416666666666666, 'x[0] <= -0.68\\nentropy = 0.993\\nsamples = 51\\nvalue = [0, 28, 23, 0]'),\n",
       " Text(0.539568345323741, 0.4583333333333333, 'x[15] <= 1.986\\nentropy = 0.267\\nsamples = 22\\nvalue = [0, 21, 1, 0]'),\n",
       " Text(0.5323741007194245, 0.375, 'entropy = 0.0\\nsamples = 21\\nvalue = [0, 21, 0, 0]'),\n",
       " Text(0.5467625899280576, 0.375, 'entropy = 0.0\\nsamples = 1\\nvalue = [0, 0, 1, 0]'),\n",
       " Text(0.5683453237410072, 0.4583333333333333, 'x[12] <= -1.019\\nentropy = 0.797\\nsamples = 29\\nvalue = [0, 7, 22, 0]'),\n",
       " Text(0.5611510791366906, 0.375, 'x[1] <= 0.012\\nentropy = 0.98\\nsamples = 12\\nvalue = [0, 7, 5, 0]'),\n",
       " Text(0.5539568345323741, 0.2916666666666667, 'entropy = 0.0\\nsamples = 4\\nvalue = [0, 0, 4, 0]'),\n",
       " Text(0.5683453237410072, 0.2916666666666667, 'x[10] <= -1.549\\nentropy = 0.544\\nsamples = 8\\nvalue = [0, 7, 1, 0]'),\n",
       " Text(0.5611510791366906, 0.20833333333333334, 'entropy = 0.0\\nsamples = 1\\nvalue = [0, 0, 1, 0]'),\n",
       " Text(0.5755395683453237, 0.20833333333333334, 'entropy = 0.0\\nsamples = 7\\nvalue = [0, 7, 0, 0]'),\n",
       " Text(0.5755395683453237, 0.375, 'entropy = 0.0\\nsamples = 17\\nvalue = [0, 0, 17, 0]'),\n",
       " Text(0.60431654676259, 0.5416666666666666, 'x[0] <= -1.555\\nentropy = 0.276\\nsamples = 42\\nvalue = [0, 2, 40, 0]'),\n",
       " Text(0.5971223021582733, 0.4583333333333333, 'x[4] <= -0.182\\nentropy = 0.918\\nsamples = 3\\nvalue = [0, 2, 1, 0]'),\n",
       " Text(0.5899280575539568, 0.375, 'entropy = 0.0\\nsamples = 2\\nvalue = [0, 2, 0, 0]'),\n",
       " Text(0.60431654676259, 0.375, 'entropy = 0.0\\nsamples = 1\\nvalue = [0, 0, 1, 0]'),\n",
       " Text(0.6115107913669064, 0.4583333333333333, 'entropy = 0.0\\nsamples = 39\\nvalue = [0, 0, 39, 0]'),\n",
       " Text(0.658273381294964, 0.625, 'x[19] <= -0.027\\nentropy = 0.493\\nsamples = 77\\nvalue = [0, 1, 70, 6]'),\n",
       " Text(0.6402877697841727, 0.5416666666666666, 'x[8] <= -1.13\\nentropy = 0.684\\nsamples = 33\\nvalue = [0, 0, 27, 6]'),\n",
       " Text(0.6258992805755396, 0.4583333333333333, 'x[7] <= -0.498\\nentropy = 0.918\\nsamples = 6\\nvalue = [0, 0, 2, 4]'),\n",
       " Text(0.6187050359712231, 0.375, 'entropy = 0.0\\nsamples = 2\\nvalue = [0, 0, 2, 0]'),\n",
       " Text(0.6330935251798561, 0.375, 'entropy = 0.0\\nsamples = 4\\nvalue = [0, 0, 0, 4]'),\n",
       " Text(0.6546762589928058, 0.4583333333333333, 'x[0] <= 0.118\\nentropy = 0.381\\nsamples = 27\\nvalue = [0, 0, 25, 2]'),\n",
       " Text(0.6474820143884892, 0.375, 'x[11] <= 1.969\\nentropy = 0.235\\nsamples = 26\\nvalue = [0, 0, 25, 1]'),\n",
       " Text(0.6402877697841727, 0.2916666666666667, 'entropy = 0.0\\nsamples = 25\\nvalue = [0, 0, 25, 0]'),\n",
       " Text(0.6546762589928058, 0.2916666666666667, 'entropy = 0.0\\nsamples = 1\\nvalue = [0, 0, 0, 1]'),\n",
       " Text(0.6618705035971223, 0.375, 'entropy = 0.0\\nsamples = 1\\nvalue = [0, 0, 0, 1]'),\n",
       " Text(0.6762589928057554, 0.5416666666666666, 'x[16] <= 1.566\\nentropy = 0.156\\nsamples = 44\\nvalue = [0, 1, 43, 0]'),\n",
       " Text(0.6690647482014388, 0.4583333333333333, 'entropy = 0.0\\nsamples = 42\\nvalue = [0, 0, 42, 0]'),\n",
       " Text(0.6834532374100719, 0.4583333333333333, 'x[17] <= -0.627\\nentropy = 1.0\\nsamples = 2\\nvalue = [0, 1, 1, 0]'),\n",
       " Text(0.6762589928057554, 0.375, 'entropy = 0.0\\nsamples = 1\\nvalue = [0, 0, 1, 0]'),\n",
       " Text(0.6906474820143885, 0.375, 'entropy = 0.0\\nsamples = 1\\nvalue = [0, 1, 0, 0]'),\n",
       " Text(0.7787769784172662, 0.7083333333333334, 'x[12] <= 0.208\\nentropy = 0.983\\nsamples = 120\\nvalue = [0, 1, 79, 40]'),\n",
       " Text(0.737410071942446, 0.625, 'x[13] <= 0.565\\nentropy = 0.539\\nsamples = 68\\nvalue = [0, 1, 61, 6]'),\n",
       " Text(0.7194244604316546, 0.5416666666666666, 'x[8] <= -1.102\\nentropy = 0.282\\nsamples = 50\\nvalue = [0, 1, 48, 1]'),\n",
       " Text(0.7122302158273381, 0.4583333333333333, 'x[10] <= -1.219\\nentropy = 0.866\\nsamples = 11\\nvalue = [0, 1, 9, 1]'),\n",
       " Text(0.7050359712230215, 0.375, 'x[13] <= 0.251\\nentropy = 1.0\\nsamples = 2\\nvalue = [0, 1, 0, 1]'),\n",
       " Text(0.697841726618705, 0.2916666666666667, 'entropy = 0.0\\nsamples = 1\\nvalue = [0, 1, 0, 0]'),\n",
       " Text(0.7122302158273381, 0.2916666666666667, 'entropy = 0.0\\nsamples = 1\\nvalue = [0, 0, 0, 1]'),\n",
       " Text(0.7194244604316546, 0.375, 'entropy = 0.0\\nsamples = 9\\nvalue = [0, 0, 9, 0]'),\n",
       " Text(0.7266187050359713, 0.4583333333333333, 'entropy = 0.0\\nsamples = 39\\nvalue = [0, 0, 39, 0]'),\n",
       " Text(0.7553956834532374, 0.5416666666666666, 'x[11] <= -0.192\\nentropy = 0.852\\nsamples = 18\\nvalue = [0, 0, 13, 5]'),\n",
       " Text(0.7410071942446043, 0.4583333333333333, 'x[8] <= -0.746\\nentropy = 0.592\\nsamples = 14\\nvalue = [0, 0, 12, 2]'),\n",
       " Text(0.7338129496402878, 0.375, 'x[16] <= -0.271\\nentropy = 0.971\\nsamples = 5\\nvalue = [0, 0, 3, 2]'),\n",
       " Text(0.7266187050359713, 0.2916666666666667, 'entropy = 0.0\\nsamples = 3\\nvalue = [0, 0, 3, 0]'),\n",
       " Text(0.7410071942446043, 0.2916666666666667, 'entropy = 0.0\\nsamples = 2\\nvalue = [0, 0, 0, 2]'),\n",
       " Text(0.7482014388489209, 0.375, 'entropy = 0.0\\nsamples = 9\\nvalue = [0, 0, 9, 0]'),\n",
       " Text(0.7697841726618705, 0.4583333333333333, 'x[9] <= -1.324\\nentropy = 0.811\\nsamples = 4\\nvalue = [0, 0, 1, 3]'),\n",
       " Text(0.762589928057554, 0.375, 'entropy = 0.0\\nsamples = 1\\nvalue = [0, 0, 1, 0]'),\n",
       " Text(0.7769784172661871, 0.375, 'entropy = 0.0\\nsamples = 3\\nvalue = [0, 0, 0, 3]'),\n",
       " Text(0.8201438848920863, 0.625, 'x[11] <= 0.143\\nentropy = 0.931\\nsamples = 52\\nvalue = [0, 0, 18, 34]'),\n",
       " Text(0.7913669064748201, 0.5416666666666666, 'x[13] <= 0.359\\nentropy = 0.934\\nsamples = 20\\nvalue = [0, 0, 13, 7]'),\n",
       " Text(0.7841726618705036, 0.4583333333333333, 'entropy = 0.0\\nsamples = 9\\nvalue = [0, 0, 9, 0]'),\n",
       " Text(0.7985611510791367, 0.4583333333333333, 'x[0] <= 0.96\\nentropy = 0.946\\nsamples = 11\\nvalue = [0, 0, 4, 7]'),\n",
       " Text(0.7913669064748201, 0.375, 'entropy = 0.0\\nsamples = 3\\nvalue = [0, 0, 3, 0]'),\n",
       " Text(0.8057553956834532, 0.375, 'x[8] <= 1.527\\nentropy = 0.544\\nsamples = 8\\nvalue = [0, 0, 1, 7]'),\n",
       " Text(0.7985611510791367, 0.2916666666666667, 'entropy = 0.0\\nsamples = 7\\nvalue = [0, 0, 0, 7]'),\n",
       " Text(0.8129496402877698, 0.2916666666666667, 'entropy = 0.0\\nsamples = 1\\nvalue = [0, 0, 1, 0]'),\n",
       " Text(0.8489208633093526, 0.5416666666666666, 'x[14] <= 0.52\\nentropy = 0.625\\nsamples = 32\\nvalue = [0, 0, 5, 27]'),\n",
       " Text(0.841726618705036, 0.4583333333333333, 'x[8] <= 1.058\\nentropy = 0.874\\nsamples = 17\\nvalue = [0, 0, 5, 12]'),\n",
       " Text(0.8345323741007195, 0.375, 'x[16] <= 0.188\\nentropy = 0.722\\nsamples = 15\\nvalue = [0, 0, 3, 12]'),\n",
       " Text(0.8273381294964028, 0.2916666666666667, 'x[6] <= -0.067\\nentropy = 0.954\\nsamples = 8\\nvalue = [0, 0, 3, 5]'),\n",
       " Text(0.8201438848920863, 0.20833333333333334, 'entropy = 0.0\\nsamples = 3\\nvalue = [0, 0, 3, 0]'),\n",
       " Text(0.8345323741007195, 0.20833333333333334, 'entropy = 0.0\\nsamples = 5\\nvalue = [0, 0, 0, 5]'),\n",
       " Text(0.841726618705036, 0.2916666666666667, 'entropy = 0.0\\nsamples = 7\\nvalue = [0, 0, 0, 7]'),\n",
       " Text(0.8489208633093526, 0.375, 'entropy = 0.0\\nsamples = 2\\nvalue = [0, 0, 2, 0]'),\n",
       " Text(0.8561151079136691, 0.4583333333333333, 'entropy = 0.0\\nsamples = 15\\nvalue = [0, 0, 0, 15]'),\n",
       " Text(0.9559352517985612, 0.7916666666666666, 'x[0] <= 0.306\\nentropy = 0.688\\nsamples = 343\\nvalue = [0, 0, 63, 280]'),\n",
       " Text(0.9334532374100719, 0.7083333333333334, 'x[11] <= 0.502\\nentropy = 0.893\\nsamples = 200\\nvalue = [0, 0, 62, 138]'),\n",
       " Text(0.9262589928057554, 0.625, 'x[13] <= 1.195\\nentropy = 0.986\\nsamples = 144\\nvalue = [0, 0, 62, 82]'),\n",
       " Text(0.8884892086330936, 0.5416666666666666, 'x[12] <= -0.463\\nentropy = 0.857\\nsamples = 64\\nvalue = [0, 0, 46, 18]'),\n",
       " Text(0.8705035971223022, 0.4583333333333333, 'x[8] <= -0.818\\nentropy = 0.216\\nsamples = 29\\nvalue = [0, 0, 28, 1]'),\n",
       " Text(0.8633093525179856, 0.375, 'x[15] <= 1.186\\nentropy = 1.0\\nsamples = 2\\nvalue = [0, 0, 1, 1]'),\n",
       " Text(0.8561151079136691, 0.2916666666666667, 'entropy = 0.0\\nsamples = 1\\nvalue = [0, 0, 1, 0]'),\n",
       " Text(0.8705035971223022, 0.2916666666666667, 'entropy = 0.0\\nsamples = 1\\nvalue = [0, 0, 0, 1]'),\n",
       " Text(0.8776978417266187, 0.375, 'entropy = 0.0\\nsamples = 27\\nvalue = [0, 0, 27, 0]'),\n",
       " Text(0.9064748201438849, 0.4583333333333333, 'x[0] <= -0.495\\nentropy = 0.999\\nsamples = 35\\nvalue = [0, 0, 18, 17]'),\n",
       " Text(0.8920863309352518, 0.375, 'x[15] <= 0.386\\nentropy = 0.792\\nsamples = 21\\nvalue = [0, 0, 16, 5]'),\n",
       " Text(0.8848920863309353, 0.2916666666666667, 'x[10] <= -1.549\\nentropy = 0.503\\nsamples = 18\\nvalue = [0, 0, 16, 2]'),\n",
       " Text(0.8776978417266187, 0.20833333333333334, 'entropy = 0.0\\nsamples = 2\\nvalue = [0, 0, 0, 2]'),\n",
       " Text(0.8920863309352518, 0.20833333333333334, 'entropy = 0.0\\nsamples = 16\\nvalue = [0, 0, 16, 0]'),\n",
       " Text(0.8992805755395683, 0.2916666666666667, 'entropy = 0.0\\nsamples = 3\\nvalue = [0, 0, 0, 3]'),\n",
       " Text(0.920863309352518, 0.375, 'x[11] <= -1.134\\nentropy = 0.592\\nsamples = 14\\nvalue = [0, 0, 2, 12]'),\n",
       " Text(0.9136690647482014, 0.2916666666666667, 'x[12] <= 0.756\\nentropy = 1.0\\nsamples = 4\\nvalue = [0, 0, 2, 2]'),\n",
       " Text(0.9064748201438849, 0.20833333333333334, 'entropy = 0.0\\nsamples = 2\\nvalue = [0, 0, 2, 0]'),\n",
       " Text(0.920863309352518, 0.20833333333333334, 'entropy = 0.0\\nsamples = 2\\nvalue = [0, 0, 0, 2]'),\n",
       " Text(0.9280575539568345, 0.2916666666666667, 'entropy = 0.0\\nsamples = 10\\nvalue = [0, 0, 0, 10]'),\n",
       " Text(0.9640287769784173, 0.5416666666666666, 'x[0] <= -1.081\\nentropy = 0.722\\nsamples = 80\\nvalue = [0, 0, 16, 64]'),\n",
       " Text(0.9424460431654677, 0.4583333333333333, 'x[11] <= -1.141\\nentropy = 1.0\\nsamples = 28\\nvalue = [0, 0, 14, 14]'),\n",
       " Text(0.935251798561151, 0.375, 'entropy = 0.0\\nsamples = 7\\nvalue = [0, 0, 7, 0]'),\n",
       " Text(0.9496402877697842, 0.375, 'x[6] <= -0.542\\nentropy = 0.918\\nsamples = 21\\nvalue = [0, 0, 7, 14]'),\n",
       " Text(0.9424460431654677, 0.2916666666666667, 'entropy = 0.0\\nsamples = 4\\nvalue = [0, 0, 4, 0]'),\n",
       " Text(0.9568345323741008, 0.2916666666666667, 'x[7] <= -0.672\\nentropy = 0.672\\nsamples = 17\\nvalue = [0, 0, 3, 14]'),\n",
       " Text(0.9496402877697842, 0.20833333333333334, 'x[11] <= -0.214\\nentropy = 0.954\\nsamples = 8\\nvalue = [0, 0, 3, 5]'),\n",
       " Text(0.9424460431654677, 0.125, 'x[2] <= -0.137\\nentropy = 0.811\\nsamples = 4\\nvalue = [0, 0, 3, 1]'),\n",
       " Text(0.935251798561151, 0.041666666666666664, 'entropy = 0.0\\nsamples = 1\\nvalue = [0, 0, 0, 1]'),\n",
       " Text(0.9496402877697842, 0.041666666666666664, 'entropy = 0.0\\nsamples = 3\\nvalue = [0, 0, 3, 0]'),\n",
       " Text(0.9568345323741008, 0.125, 'entropy = 0.0\\nsamples = 4\\nvalue = [0, 0, 0, 4]'),\n",
       " Text(0.9640287769784173, 0.20833333333333334, 'entropy = 0.0\\nsamples = 9\\nvalue = [0, 0, 0, 9]'),\n",
       " Text(0.9856115107913669, 0.4583333333333333, 'x[12] <= -1.464\\nentropy = 0.235\\nsamples = 52\\nvalue = [0, 0, 2, 50]'),\n",
       " Text(0.9784172661870504, 0.375, 'x[12] <= -1.503\\nentropy = 0.811\\nsamples = 8\\nvalue = [0, 0, 2, 6]'),\n",
       " Text(0.9712230215827338, 0.2916666666666667, 'entropy = 0.0\\nsamples = 6\\nvalue = [0, 0, 0, 6]'),\n",
       " Text(0.9856115107913669, 0.2916666666666667, 'entropy = 0.0\\nsamples = 2\\nvalue = [0, 0, 2, 0]'),\n",
       " Text(0.9928057553956835, 0.375, 'entropy = 0.0\\nsamples = 44\\nvalue = [0, 0, 0, 44]'),\n",
       " Text(0.9406474820143885, 0.625, 'entropy = 0.0\\nsamples = 56\\nvalue = [0, 0, 0, 56]'),\n",
       " Text(0.9784172661870504, 0.7083333333333334, 'x[16] <= 1.566\\nentropy = 0.06\\nsamples = 143\\nvalue = [0, 0, 1, 142]'),\n",
       " Text(0.9712230215827338, 0.625, 'entropy = 0.0\\nsamples = 133\\nvalue = [0, 0, 0, 133]'),\n",
       " Text(0.9856115107913669, 0.625, 'x[8] <= 1.101\\nentropy = 0.469\\nsamples = 10\\nvalue = [0, 0, 1, 9]'),\n",
       " Text(0.9784172661870504, 0.5416666666666666, 'entropy = 0.0\\nsamples = 9\\nvalue = [0, 0, 0, 9]'),\n",
       " Text(0.9928057553956835, 0.5416666666666666, 'entropy = 0.0\\nsamples = 1\\nvalue = [0, 0, 1, 0]')]"
      ]
     },
     "execution_count": 140,
     "metadata": {},
     "output_type": "execute_result"
    },
    {
     "data": {
      "image/png": "[encoded data removed]",
      "text/plain": [
       "<Figure size 640x480 with 1 Axes>"
      ]
     },
     "metadata": {},
     "output_type": "display_data"
    }
   ],
   "source": [
    "from sklearn import tree\n",
    "tree.plot_tree(clf)"
   ]
  }
 ],
 "metadata": {
  "kernelspec": {
   "display_name": "base",
   "language": "python",
   "name": "python3"
  },
  "language_info": {
   "codemirror_mode": {
    "name": "ipython",
    "version": 3
   },
   "file_extension": ".py",
   "mimetype": "text/x-python",
   "name": "python",
   "nbconvert_exporter": "python",
   "pygments_lexer": "ipython3",
   "version": "3.11.5"
  }
 },
 "nbformat": 4,
 "nbformat_minor": 2
}
