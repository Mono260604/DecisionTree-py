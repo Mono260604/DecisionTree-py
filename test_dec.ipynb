{
 "cells": [
  {
   "cell_type": "code",
   "execution_count": null,
   "metadata": {},
   "outputs": [],
   "source": [
    "import pandas as pd"
   ]
  },
  {
   "cell_type": "code",
   "execution_count": null,
   "metadata": {},
   "outputs": [],
   "source": [
    "test_case = pd.read_csv(\"test.csv\")\n",
    "train_case = pd.read_csv(\"train.csv\")\n",
    "frame  = [train_case , test_case]\n",
    "dataset = pd.concat(frame)\n",
    "# dataset = train_case\n",
    "print(dataset)"
   ]
  },
  {
   "cell_type": "code",
   "execution_count": null,
   "metadata": {},
   "outputs": [],
   "source": [
    "import numpy as np\n",
    "dataset['battery_power'] = dataset['battery_power'].replace(np.nan, dataset['battery_power'].mean())\n",
    "dataset['ram'] = dataset['ram'].replace(np.nan, dataset['ram'].mean())\n",
    "dataset['px_width'] = dataset['px_width'].replace(np.nan, dataset['px_width'].mean())\n",
    "dataset['int_memory'] = dataset['int_memory'].replace(np.nan, dataset['int_memory'].mean())\n",
    "dataset['three_g'] = dataset['three_g'].replace(np.nan, dataset['three_g'].mean())\n",
    "dataset['blue'] = dataset['blue'].replace(np.nan, dataset['blue'].mean())\n",
    "dataset['clock_speed'] = dataset['clock_speed'].replace(np.nan, dataset['clock_speed'].mean())\n",
    "dataset['dual_sim'] = dataset['dual_sim'].replace(np.nan, dataset['dual_sim'].mean())\n",
    "dataset['fc'] = dataset['fc'].replace(np.nan, dataset['fc'].mean())\n",
    "dataset['four_g'] = dataset['four_g'].replace(np.nan, dataset['four_g'].mean())\n",
    "dataset['m_dep'] = dataset['m_dep'].replace(np.nan, dataset['m_dep'].mean())\n",
    "dataset['mobile_wt'] = dataset['mobile_wt'].replace(np.nan, dataset['mobile_wt'].mean())\n",
    "dataset['n_cores'] = dataset['n_cores'].replace(np.nan, dataset['n_cores'].mean())\n",
    "dataset['pc'] = dataset['pc'].replace(np.nan, dataset['pc'].mean())\n",
    "dataset['px_height'] = dataset['px_height'].replace(np.nan, dataset['px_height'].mean())\n",
    "dataset['sc_h'] = dataset['sc_h'].replace(np.nan, dataset['sc_h'].mean())\n",
    "dataset['sc_w'] = dataset['sc_w'].replace(np.nan, dataset['sc_w'].mean())\n",
    "dataset['talk_time'] = dataset['talk_time'].replace(np.nan, dataset['talk_time'].mean())\n",
    "dataset['touch_screen'] = dataset['touch_screen'].replace(np.nan, dataset['touch_screen'].mean())\n",
    "dataset['wifi'] = dataset['wifi'].replace(np.nan, dataset['wifi'].mean())\n",
    "dataset['price_range'] = dataset['price_range'].replace(np.nan, dataset['price_range'].mean())"
   ]
  },
  {
   "cell_type": "code",
   "execution_count": null,
   "metadata": {},
   "outputs": [],
   "source": [
    "dataset.corr()\n",
    "print(dataset)"
   ]
  },
  {
   "cell_type": "code",
   "execution_count": null,
   "metadata": {},
   "outputs": [],
   "source": [
    "dataset.info()"
   ]
  },
  {
   "cell_type": "code",
   "execution_count": null,
   "metadata": {},
   "outputs": [],
   "source": [
    "feature_columns = dataset.drop(columns=['price_range'])\n",
    "target_column = dataset['price_range']"
   ]
  },
  {
   "cell_type": "code",
   "execution_count": null,
   "metadata": {},
   "outputs": [],
   "source": [
    "from sklearn.model_selection import train_test_split\n",
    "X = feature_columns\n",
    "y = target_column\n",
    "X_train , X_test , y_train , y_test = train_test_split(X , y , test_size=0.33)"
   ]
  },
  {
   "cell_type": "code",
   "execution_count": null,
   "metadata": {},
   "outputs": [],
   "source": [
    "# # from sklearn.tree import DecisionTreeClassifier\n",
    "# clf = DecisionTreeClassifier(criterion='entropy', random_state=0)\n",
    "# clf = clf.fit(X_train, y_train)"
   ]
  },
  {
   "cell_type": "code",
   "execution_count": null,
   "metadata": {},
   "outputs": [],
   "source": [
    "from sklearn.tree import DecisionTreeRegressor\n",
    "regressor = DecisionTreeRegressor(criterion='squared_error')\n",
    "regressor.fit(X_train , y_train)"
   ]
  },
  {
   "cell_type": "code",
   "execution_count": null,
   "metadata": {},
   "outputs": [],
   "source": [
    "regressor.get_params()"
   ]
  },
  {
   "cell_type": "code",
   "execution_count": null,
   "metadata": {},
   "outputs": [],
   "source": [
    "predictions = regressor.predict(X_test)\n",
    "predictions"
   ]
  },
  {
   "cell_type": "code",
   "execution_count": null,
   "metadata": {},
   "outputs": [],
   "source": [
    "from sklearn.model_selection import cross_val_score\n",
    "\n",
    "model = DecisionTreeRegressor()\n",
    "mse_scores = cross_val_score(model, feature_columns, target_column, cv=5, scoring='neg_mean_squared_error')\n",
    "average_mse = -mse_scores.mean()\n",
    "\n",
    "print(average_mse)"
   ]
  },
  {
   "cell_type": "code",
   "execution_count": null,
   "metadata": {},
   "outputs": [],
   "source": [
    "feature_names = X.columns\n",
    "feature_names"
   ]
  },
  {
   "cell_type": "code",
   "execution_count": null,
   "metadata": {},
   "outputs": [],
   "source": [
    "feature_importance = pd.DataFrame(regressor.feature_importances_, index=X.columns, columns=['Importance'])\n",
    "feature_importance"
   ]
  },
  {
   "cell_type": "code",
   "execution_count": null,
   "metadata": {},
   "outputs": [],
   "source": [
    "feature_importance = feature_importance.sort_values('Importance', ascending=False)"
   ]
  },
  {
   "cell_type": "code",
   "execution_count": null,
   "metadata": {},
   "outputs": [],
   "source": [
    "from matplotlib import pyplot as plt\n",
    "top_n = 10\n",
    "plt.figure(figsize=(10, 6))\n",
    "plt.barh(range(top_n), feature_importance['Importance'][:top_n], align='center')\n",
    "plt.yticks(range(top_n), feature_importance.index[:top_n])\n",
    "plt.xlabel('Feature Importance')\n",
    "plt.title('Top 10 Feature Importances - Decision Tree Regressor')\n",
    "plt.show()"
   ]
  }
 ],
 "metadata": {
  "kernelspec": {
   "display_name": "base",
   "language": "python",
   "name": "python3"
  },
  "language_info": {
   "codemirror_mode": {
    "name": "ipython",
    "version": 3
   },
   "file_extension": ".py",
   "mimetype": "text/x-python",
   "name": "python",
   "nbconvert_exporter": "python",
   "pygments_lexer": "ipython3",
   "version": "3.11.5"
  }
 },
 "nbformat": 4,
 "nbformat_minor": 2
}
